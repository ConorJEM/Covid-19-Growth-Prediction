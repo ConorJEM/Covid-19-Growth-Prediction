{
  "nbformat": 4,
  "nbformat_minor": 0,
  "metadata": {
    "colab": {
      "name": "COVID19FinalsTEST.ipynb",
      "provenance": [],
      "collapsed_sections": [
        "HrxdS4887gA9",
        "xC0b2ajGAVka",
        "laIOtiH6AY_C",
        "tizJm3DdAd6a",
        "sQ1MWEEZBV6X"
      ]
    },
    "kernelspec": {
      "name": "python3",
      "display_name": "Python 3"
    }
  },
  "cells": [
    {
      "cell_type": "markdown",
      "metadata": {
        "id": "4Sw_1i6K1kOp"
      },
      "source": [
        "# Introduction\n",
        "This notebook extensively outlines my experimentation in relation to the final project. The kaggle competition page states ' the primary goal isn't only to produce accurate forecasts. It’s also to identify factors that appear to impact the transmission rate of COVID-19.' In spirit of this, while mainly focusing on building a model that can forecast future numbers of covid19 cases and fatalities, I have also looked into some features that may effect the growth of the virus. For doing this, data external to the competition dataset has been utilised. \n",
        "\n",
        "Three additional datasets are used:\n",
        " country_info at https://www.kaggle.com/koryto/countryinfo\n",
        "\n",
        "countrylockdowndates at https://www.kaggle.com/jcyzag/covid19-lockdown-dates-by-country\n",
        "\n",
        "country testing data at https://www.kaggle.com/skylord/covid19-tests-conducted-by-country\n",
        "\n",
        "\n"
      ]
    },
    {
      "cell_type": "markdown",
      "metadata": {
        "id": "mWCFrQG665a9"
      },
      "source": [
        "##Imports"
      ]
    },
    {
      "cell_type": "code",
      "metadata": {
        "id": "VUqLOuoa67CO"
      },
      "source": [
        "import pandas as pd\n",
        "from pydrive.auth import GoogleAuth\n",
        "from pydrive.drive import GoogleDrive\n",
        "from google.colab import auth\n",
        "from oauth2client.client import GoogleCredentials\n",
        "\n",
        "#I am using google colab, this code is getting authentication to download from my google drive.\n",
        "auth.authenticate_user()\n",
        "gauth = GoogleAuth()\n",
        "gauth.credentials = GoogleCredentials.get_application_default()\n",
        "drive = GoogleDrive(gauth)"
      ],
      "execution_count": null,
      "outputs": []
    },
    {
      "cell_type": "code",
      "metadata": {
        "id": "NqmcNW4V6-1_"
      },
      "source": [
        "downloaded = drive.CreateFile({'id':'1n4nfk9A-1j_h_8RERu3rkAzBp4unDoEV'})\n",
        "downloaded.GetContentFile('train.csv')\n",
        "downloaded2 = drive.CreateFile({'id':'1roP_pEY5sZYWqoLCCCuKFe_tOfv_LYg9'})\n",
        "downloaded2.GetContentFile('test.csv')\n",
        "downloaded3 = drive.CreateFile({'id':'1EuCXjf7Nio-6a6_FsHlXLysIznt6puBi'})\n",
        "downloaded3.GetContentFile('submission.csv')\n",
        "downloaded4 = drive.CreateFile({'id':'1zVCvRfHgazYskZq53Cbdx1B5qM3BxNMi'})\n",
        "downloaded4.GetContentFile('covid19countryinfo.csv')\n",
        "downloaded5 = drive.CreateFile({'id':'1QWvKs1YbLo90b3vOyI2s6C2rszXtbZQm'})\n",
        "downloaded5.GetContentFile('covid19tests.csv')\n",
        "\n",
        "downloaded7 = drive.CreateFile({'id':'1pXNCqWL1cYsVqLod5KY7kjIzrzYgf7HE'})\n",
        "downloaded7.GetContentFile('countryLockdowndatesJHUMatch.csv')"
      ],
      "execution_count": null,
      "outputs": []
    },
    {
      "cell_type": "code",
      "metadata": {
        "id": "DqwBp5O67EZ1"
      },
      "source": [
        "testSet=pd.read_csv('test.csv')\n",
        "trainSet =pd.read_csv('train.csv')\n",
        "submission=pd.read_csv('submission.csv')\n",
        "country_info_df=pd.read_csv('covid19countryinfo.csv')\n",
        "testingInfo=pd.read_csv('covid19tests.csv')\n",
        "lockdowns2=pd.read_csv('countryLockdowndatesJHUMatch.csv')"
      ],
      "execution_count": null,
      "outputs": []
    },
    {
      "cell_type": "markdown",
      "metadata": {
        "id": "HrxdS4887gA9"
      },
      "source": [
        "##Data Cleaning"
      ]
    },
    {
      "cell_type": "code",
      "metadata": {
        "id": "o9WLM79j7hDG",
        "colab": {
          "base_uri": "https://localhost:8080/"
        },
        "outputId": "da12fefc-863a-457c-d391-4cda4ba04670"
      },
      "source": [
        "#change countries to numerical values.\n",
        "from sklearn.preprocessing import LabelEncoder\n",
        "\n",
        "\n",
        "countries = pd.DataFrame(trainSet, columns=['Country_Region'])\n",
        "# creating instance of labelencoder\n",
        "labelencoder = LabelEncoder()\n",
        "# Assigning numerical values and storing in another column\n",
        "trainSet['Countries'] = labelencoder.fit_transform(trainSet['Country_Region'])\n",
        "\n",
        "# #do the same for test set\n",
        "testSet['Countries'] = labelencoder.fit_transform(testSet['Country_Region'])\n",
        "\n",
        "#check label encoding \n",
        "trainSet['Countries'].head()"
      ],
      "execution_count": null,
      "outputs": [
        {
          "output_type": "execute_result",
          "data": {
            "text/plain": [
              "0    0\n",
              "1    0\n",
              "2    0\n",
              "3    0\n",
              "4    0\n",
              "Name: Countries, dtype: int64"
            ]
          },
          "metadata": {
            "tags": []
          },
          "execution_count": 4
        }
      ]
    },
    {
      "cell_type": "code",
      "metadata": {
        "id": "-DctsXC47h4p"
      },
      "source": [
        "trainSet['Date']= pd.to_datetime(trainSet['Date']) \n",
        "testSet['Date']= pd.to_datetime(testSet['Date']) "
      ],
      "execution_count": null,
      "outputs": []
    },
    {
      "cell_type": "code",
      "metadata": {
        "id": "63GayhN_7kab"
      },
      "source": [
        "trainSet = trainSet.set_index(['Date'])\n",
        "testSet = testSet.set_index(['Date'])"
      ],
      "execution_count": null,
      "outputs": []
    },
    {
      "cell_type": "code",
      "metadata": {
        "id": "QvgoQ8hR7mrR"
      },
      "source": [
        "def create_time_features(df):\n",
        "    \"\"\"\n",
        "    Creates time series features from datetime index\n",
        "    \"\"\"\n",
        "    df['date'] = df.index\n",
        "    df['hour'] = df['date'].dt.hour\n",
        "    df['dayofweek'] = df['date'].dt.dayofweek\n",
        "    df['quarter'] = df['date'].dt.quarter\n",
        "    df['month'] = df['date'].dt.month\n",
        "    df['year'] = df['date'].dt.year\n",
        "    df['dayofyear'] = df['date'].dt.dayofyear\n",
        "    df['dayofmonth'] = df['date'].dt.day\n",
        "    df['weekofyear'] = df['date'].dt.weekofyear\n",
        "    \n",
        "    X = df[['hour','dayofweek','quarter','month','year',\n",
        "           'dayofyear','dayofmonth','weekofyear']]\n",
        "    return X"
      ],
      "execution_count": null,
      "outputs": []
    },
    {
      "cell_type": "code",
      "metadata": {
        "id": "c2m7XNYO78vF"
      },
      "source": [
        ""
      ],
      "execution_count": null,
      "outputs": []
    },
    {
      "cell_type": "code",
      "metadata": {
        "id": "4hRBWGdt7nXA",
        "colab": {
          "base_uri": "https://localhost:8080/"
        },
        "outputId": "96cb7397-4c30-4659-fdd6-2280c4d7a01b"
      },
      "source": [
        "create_time_features(trainSet).head()\n",
        "create_time_features(testSet).head()"
      ],
      "execution_count": null,
      "outputs": [
        {
          "output_type": "execute_result",
          "data": {
            "text/html": [
              "<div>\n",
              "<style scoped>\n",
              "    .dataframe tbody tr th:only-of-type {\n",
              "        vertical-align: middle;\n",
              "    }\n",
              "\n",
              "    .dataframe tbody tr th {\n",
              "        vertical-align: top;\n",
              "    }\n",
              "\n",
              "    .dataframe thead th {\n",
              "        text-align: right;\n",
              "    }\n",
              "</style>\n",
              "<table border=\"1\" class=\"dataframe\">\n",
              "  <thead>\n",
              "    <tr style=\"text-align: right;\">\n",
              "      <th></th>\n",
              "      <th>hour</th>\n",
              "      <th>dayofweek</th>\n",
              "      <th>quarter</th>\n",
              "      <th>month</th>\n",
              "      <th>year</th>\n",
              "      <th>dayofyear</th>\n",
              "      <th>dayofmonth</th>\n",
              "      <th>weekofyear</th>\n",
              "    </tr>\n",
              "    <tr>\n",
              "      <th>Date</th>\n",
              "      <th></th>\n",
              "      <th></th>\n",
              "      <th></th>\n",
              "      <th></th>\n",
              "      <th></th>\n",
              "      <th></th>\n",
              "      <th></th>\n",
              "      <th></th>\n",
              "    </tr>\n",
              "  </thead>\n",
              "  <tbody>\n",
              "    <tr>\n",
              "      <th>2020-03-19</th>\n",
              "      <td>0</td>\n",
              "      <td>3</td>\n",
              "      <td>1</td>\n",
              "      <td>3</td>\n",
              "      <td>2020</td>\n",
              "      <td>79</td>\n",
              "      <td>19</td>\n",
              "      <td>12</td>\n",
              "    </tr>\n",
              "    <tr>\n",
              "      <th>2020-03-20</th>\n",
              "      <td>0</td>\n",
              "      <td>4</td>\n",
              "      <td>1</td>\n",
              "      <td>3</td>\n",
              "      <td>2020</td>\n",
              "      <td>80</td>\n",
              "      <td>20</td>\n",
              "      <td>12</td>\n",
              "    </tr>\n",
              "    <tr>\n",
              "      <th>2020-03-21</th>\n",
              "      <td>0</td>\n",
              "      <td>5</td>\n",
              "      <td>1</td>\n",
              "      <td>3</td>\n",
              "      <td>2020</td>\n",
              "      <td>81</td>\n",
              "      <td>21</td>\n",
              "      <td>12</td>\n",
              "    </tr>\n",
              "    <tr>\n",
              "      <th>2020-03-22</th>\n",
              "      <td>0</td>\n",
              "      <td>6</td>\n",
              "      <td>1</td>\n",
              "      <td>3</td>\n",
              "      <td>2020</td>\n",
              "      <td>82</td>\n",
              "      <td>22</td>\n",
              "      <td>12</td>\n",
              "    </tr>\n",
              "    <tr>\n",
              "      <th>2020-03-23</th>\n",
              "      <td>0</td>\n",
              "      <td>0</td>\n",
              "      <td>1</td>\n",
              "      <td>3</td>\n",
              "      <td>2020</td>\n",
              "      <td>83</td>\n",
              "      <td>23</td>\n",
              "      <td>13</td>\n",
              "    </tr>\n",
              "  </tbody>\n",
              "</table>\n",
              "</div>"
            ],
            "text/plain": [
              "            hour  dayofweek  quarter  ...  dayofyear  dayofmonth  weekofyear\n",
              "Date                                  ...                                   \n",
              "2020-03-19     0          3        1  ...         79          19          12\n",
              "2020-03-20     0          4        1  ...         80          20          12\n",
              "2020-03-21     0          5        1  ...         81          21          12\n",
              "2020-03-22     0          6        1  ...         82          22          12\n",
              "2020-03-23     0          0        1  ...         83          23          13\n",
              "\n",
              "[5 rows x 8 columns]"
            ]
          },
          "metadata": {
            "tags": []
          },
          "execution_count": 8
        }
      ]
    },
    {
      "cell_type": "code",
      "metadata": {
        "id": "NHuRip_e7pOt"
      },
      "source": [
        "#helping to integrate with country_info dataset\n",
        "country_info_df.loc[country_info_df['alpha2code']=='TW', ['country']] = 'Taiwan'\n",
        "country_info_df.loc[country_info_df['alpha2code']=='KR', ['country']] = 'South Korea'\n",
        "country_info_df.loc[country_info_df['alpha2code']=='HK', ['country']] = 'Hong Kong'\n",
        "country_info_df.loc[country_info_df['alpha2code']=='HK', ['region']] = None"
      ],
      "execution_count": null,
      "outputs": []
    },
    {
      "cell_type": "code",
      "metadata": {
        "id": "Tp4x_sF07vnC"
      },
      "source": [
        "country_info_df = country_info_df[country_info_df['region'].isnull()][['country', 'alpha2code', 'pop', 'density', 'medianage', 'urbanpop', 'tests', 'testpop']]"
      ],
      "execution_count": null,
      "outputs": []
    },
    {
      "cell_type": "code",
      "metadata": {
        "id": "c4TwLIWT7xx2"
      },
      "source": [
        "train=pd.merge(trainSet, country_info_df, left_on = \"Country_Region\", right_on = \"country\", how = \"left\")\n",
        "x_test=pd.merge(testSet, country_info_df, left_on = \"Country_Region\", right_on = \"country\", how = \"left\")"
      ],
      "execution_count": null,
      "outputs": []
    },
    {
      "cell_type": "code",
      "metadata": {
        "id": "xaCKZAe970Af"
      },
      "source": [
        "import numpy as np\n",
        "from sklearn.impute import SimpleImputer\n",
        "mean_imp = SimpleImputer(missing_values=np.nan, strategy='mean')"
      ],
      "execution_count": null,
      "outputs": []
    },
    {
      "cell_type": "code",
      "metadata": {
        "id": "NpdJlXN58A3q"
      },
      "source": [
        "train['density'] = mean_imp.fit_transform(train[['density']]).ravel()\n",
        "train['medianage'] = mean_imp.fit_transform(train[['medianage']]).ravel()\n",
        "train['urbanpop']=mean_imp.fit_transform(train[['urbanpop']]).ravel()\n",
        "\n",
        "x_test['density'] = mean_imp.fit_transform(x_test[['density']]).ravel()\n",
        "x_test['medianage'] = mean_imp.fit_transform(x_test[['medianage']]).ravel()\n",
        "x_test['urbanpop']=mean_imp.fit_transform(x_test[['urbanpop']]).ravel()"
      ],
      "execution_count": null,
      "outputs": []
    },
    {
      "cell_type": "code",
      "metadata": {
        "id": "RyC14dVU8CiP"
      },
      "source": [
        "Training_x = train[['Countries','dayofweek','month','dayofyear','weekofyear','density','medianage','urbanpop']]\n",
        "Training_y = train[['ConfirmedCases','Fatalities']]\n",
        "Test_x = x_test[['Countries','dayofweek','month','dayofyear','weekofyear','density','medianage','urbanpop']]"
      ],
      "execution_count": null,
      "outputs": []
    },
    {
      "cell_type": "markdown",
      "metadata": {
        "id": "BuYOjWpk8amA"
      },
      "source": [
        "##Data Exploration"
      ]
    },
    {
      "cell_type": "code",
      "metadata": {
        "id": "ThH2Gl7Q8ECd"
      },
      "source": [
        "import matplotlib.pyplot as plt"
      ],
      "execution_count": null,
      "outputs": []
    },
    {
      "cell_type": "code",
      "metadata": {
        "id": "lN4vf80T8SAI",
        "colab": {
          "base_uri": "https://localhost:8080/"
        },
        "outputId": "fb571e01-6c73-4107-94f7-ecb7447d607c"
      },
      "source": [
        "#Plotting worldwide confirmed cases and fatalities, across the whole training set.\n",
        "daily_analysis=train.groupby(['date']).sum()\n",
        "daily_analysis[['ConfirmedCases','Fatalities']].plot()\n",
        "plt.xlabel(\"Date\")\n",
        "plt.title('World wide total COVID Cases and Fatalities')\n",
        "plt.savefig('worldwidecase')"
      ],
      "execution_count": null,
      "outputs": [
        {
          "output_type": "display_data",
          "data": {
            "image/png": "[encoded data removed]",
            "text/plain": [
              "<Figure size 432x288 with 1 Axes>"
            ]
          },
          "metadata": {
            "tags": [],
            "needs_background": "light"
          }
        }
      ]
    },
    {
      "cell_type": "code",
      "metadata": {
        "id": "hryKei-E8oSt"
      },
      "source": [
        "#Looking at individual countries"
      ],
      "execution_count": null,
      "outputs": []
    },
    {
      "cell_type": "code",
      "metadata": {
        "id": "U1d_ve6Z8q1l",
        "colab": {
          "base_uri": "https://localhost:8080/"
        },
        "outputId": "b4cd4a68-1691-4a0e-ea32-b4b84f984282"
      },
      "source": [
        "italy_dat1 = train[train['Country_Region']=='Italy']\n",
        "italy_dat1=italy_dat1.groupby(['date']).sum()\n",
        "\n",
        "italy_dat1[['ConfirmedCases','Fatalities']].plot()\n",
        "#italy sees and exponential growth in confirmed cases.\n",
        "plt.xlabel(\"Date\")\n",
        "plt.title('Italy COVID Cases and Fatalities')\n",
        "plt.savefig('Italy')"
      ],
      "execution_count": null,
      "outputs": [
        {
          "output_type": "display_data",
          "data": {
            "image/png": "[encoded data removed]",
            "text/plain": [
              "<Figure size 432x288 with 1 Axes>"
            ]
          },
          "metadata": {
            "tags": [],
            "needs_background": "light"
          }
        }
      ]
    },
    {
      "cell_type": "code",
      "metadata": {
        "id": "axBZ6GLq94V2",
        "colab": {
          "base_uri": "https://localhost:8080/"
        },
        "outputId": "726aa75f-c5d4-4990-d539-00c12ed0af44"
      },
      "source": [
        "US_dat1 = train[train['Country_Region']=='US']\n",
        "\n",
        "US1=US_dat1.groupby(['date']).sum()\n",
        "US1[['ConfirmedCases','Fatalities']].plot()\n",
        "#US sees also sees an exponential curve.\n",
        "plt.xlabel(\"Date\")\n",
        "plt.title('USA COVID Cases and Fatalities')\n",
        "plt.savefig('USA')"
      ],
      "execution_count": null,
      "outputs": [
        {
          "output_type": "display_data",
          "data": {
            "image/png": "[encoded data removed]",
            "text/plain": [
              "<Figure size 432x288 with 1 Axes>"
            ]
          },
          "metadata": {
            "tags": [],
            "needs_background": "light"
          }
        }
      ]
    },
    {
      "cell_type": "code",
      "metadata": {
        "id": "GZ3WJRRm9KMI",
        "colab": {
          "base_uri": "https://localhost:8080/"
        },
        "outputId": "177e1aad-1d3c-45d8-8d2d-0c1251720328"
      },
      "source": [
        "China_dat1 = train[train['Country_Region']=='China']\n",
        "\n",
        "China1=China_dat1.groupby(['date']).sum()\n",
        "China1[['ConfirmedCases','Fatalities']].plot()\n",
        "#China has a strange growth in confirmed cases that seems to instantly stop growing, suspicious.\n",
        "plt.xlabel(\"Date\")\n",
        "plt.title('China COVID Cases and Fatalities')\n",
        "plt.savefig('China')"
      ],
      "execution_count": null,
      "outputs": [
        {
          "output_type": "display_data",
          "data": {
            "image/png": "[encoded data removed]",
            "text/plain": [
              "<Figure size 432x288 with 1 Axes>"
            ]
          },
          "metadata": {
            "tags": [],
            "needs_background": "light"
          }
        }
      ]
    },
    {
      "cell_type": "code",
      "metadata": {
        "id": "4d35co3B-idF",
        "colab": {
          "base_uri": "https://localhost:8080/"
        },
        "outputId": "11d491b3-c2db-43d1-eb7f-4eb98517a1a1"
      },
      "source": [
        "Zim = train[train['Country_Region']=='Zimbabwe']\n",
        "\n",
        "Zim=Zim.groupby(['date']).sum()\n",
        "Zim[['ConfirmedCases','Fatalities']].plot()\n",
        "plt.xlabel(\"Date\")\n",
        "plt.title('Zimbabwe COVID Cases and Fatalities')\n",
        "plt.savefig('Zim')"
      ],
      "execution_count": null,
      "outputs": [
        {
          "output_type": "display_data",
          "data": {
            "image/png": "[encoded data removed]",
            "text/plain": [
              "<Figure size 432x288 with 1 Axes>"
            ]
          },
          "metadata": {
            "tags": [],
            "needs_background": "light"
          }
        }
      ]
    },
    {
      "cell_type": "markdown",
      "metadata": {
        "id": "oHcisxlX-ynL"
      },
      "source": [
        "In countries where a breakout has occured, we see an exponential growth in confirmed cases and fatalities. China is an outlier in this regard. \n",
        "Many countries (such as zimbabwe as shown) by this time in Feb-March where the training data is from, has not experienced many cases yet."
      ]
    },
    {
      "cell_type": "code",
      "metadata": {
        "id": "WJW4-9bi8HJZ",
        "colab": {
          "base_uri": "https://localhost:8080/"
        },
        "outputId": "12ecc455-249b-4584-eb84-98be54149cec"
      },
      "source": [
        "train['ConfirmedCases'].mean()"
      ],
      "execution_count": null,
      "outputs": [
        {
          "output_type": "execute_result",
          "data": {
            "text/plain": [
              "514.9391156462585"
            ]
          },
          "metadata": {
            "tags": []
          },
          "execution_count": 22
        }
      ]
    },
    {
      "cell_type": "code",
      "metadata": {
        "id": "_u-MH63a_Y2M",
        "colab": {
          "base_uri": "https://localhost:8080/"
        },
        "outputId": "5f93a44f-a27e-426d-df08-66168866ee0b"
      },
      "source": [
        "train['ConfirmedCases'].mode()"
      ],
      "execution_count": null,
      "outputs": [
        {
          "output_type": "execute_result",
          "data": {
            "text/plain": [
              "0    0.0\n",
              "dtype: float64"
            ]
          },
          "metadata": {
            "tags": []
          },
          "execution_count": 23
        }
      ]
    },
    {
      "cell_type": "code",
      "metadata": {
        "id": "q6XfYTvw_o_1",
        "colab": {
          "base_uri": "https://localhost:8080/"
        },
        "outputId": "2c350bbd-1e50-423d-eb9a-4f182a89678c"
      },
      "source": [
        "train['ConfirmedCases'].max()"
      ],
      "execution_count": null,
      "outputs": [
        {
          "output_type": "execute_result",
          "data": {
            "text/plain": [
              "105792.0"
            ]
          },
          "metadata": {
            "tags": []
          },
          "execution_count": 24
        }
      ]
    },
    {
      "cell_type": "markdown",
      "metadata": {
        "id": "XHWYJP7B_PHJ"
      },
      "source": [
        "Also, as many countries took a considerable time to see any growth in cases, most of the data is at low numbers, a model could fit the training set to just be near 0 cases and fatalities and it would seem like a reasonable fit. "
      ]
    },
    {
      "cell_type": "code",
      "metadata": {
        "id": "I-xUdEFm_r6w"
      },
      "source": [
        "#Data explore. tik\n",
        "#Build first Models, then see problem.\n",
        "#Feature importance from XGBoost\n",
        "#Trying to fit individual country with taking log test\n",
        "#Fitting from every country with XGboost, seeing problem.\n",
        "#Fitting with linear for great result."
      ],
      "execution_count": null,
      "outputs": []
    },
    {
      "cell_type": "markdown",
      "metadata": {
        "id": "BqDlZXr94cly"
      },
      "source": [
        "#Looking into factors important to the spread of COVID-19 "
      ]
    },
    {
      "cell_type": "code",
      "metadata": {
        "id": "gnfKxkGD4iyC"
      },
      "source": [
        "lockdowns2=pd.read_csv('countryLockdowndatesJHUMatch.csv')\n",
        "\n",
        "lockdowns2['Date']=pd.to_datetime(lockdowns2['Date'])\n",
        "lockdowns2['Date'] = lockdowns2['Date'].dt.dayofyear\n",
        "lockdowns2=lockdowns2.rename(columns={\"Date\":\"DAYS SINCE\"})"
      ],
      "execution_count": null,
      "outputs": []
    },
    {
      "cell_type": "code",
      "metadata": {
        "id": "ICUVjzLG4uNX",
        "colab": {
          "base_uri": "https://localhost:8080/"
        },
        "outputId": "f3492883-67a6-49ce-af5e-e9a65b0c099e"
      },
      "source": [
        "lockdowns2.head()"
      ],
      "execution_count": null,
      "outputs": [
        {
          "output_type": "execute_result",
          "data": {
            "text/html": [
              "<div>\n",
              "<style scoped>\n",
              "    .dataframe tbody tr th:only-of-type {\n",
              "        vertical-align: middle;\n",
              "    }\n",
              "\n",
              "    .dataframe tbody tr th {\n",
              "        vertical-align: top;\n",
              "    }\n",
              "\n",
              "    .dataframe thead th {\n",
              "        text-align: right;\n",
              "    }\n",
              "</style>\n",
              "<table border=\"1\" class=\"dataframe\">\n",
              "  <thead>\n",
              "    <tr style=\"text-align: right;\">\n",
              "      <th></th>\n",
              "      <th>Country/Region</th>\n",
              "      <th>DAYS SINCE</th>\n",
              "      <th>Type</th>\n",
              "      <th>Reference</th>\n",
              "    </tr>\n",
              "  </thead>\n",
              "  <tbody>\n",
              "    <tr>\n",
              "      <th>0</th>\n",
              "      <td>Mainland China</td>\n",
              "      <td>23.0</td>\n",
              "      <td>Full</td>\n",
              "      <td>https://en.wikipedia.org/wiki/2019%E2%80%9320_...</td>\n",
              "    </tr>\n",
              "    <tr>\n",
              "      <th>1</th>\n",
              "      <td>Hong Kong</td>\n",
              "      <td>83.0</td>\n",
              "      <td>Full</td>\n",
              "      <td>https://en.wikipedia.org/wiki/2020_coronavirus...</td>\n",
              "    </tr>\n",
              "    <tr>\n",
              "      <th>2</th>\n",
              "      <td>Macau</td>\n",
              "      <td>26.0</td>\n",
              "      <td>Full</td>\n",
              "      <td>https://en.wikipedia.org/wiki/2020_coronavirus...</td>\n",
              "    </tr>\n",
              "    <tr>\n",
              "      <th>3</th>\n",
              "      <td>Taiwan</td>\n",
              "      <td>33.0</td>\n",
              "      <td>Full</td>\n",
              "      <td>https://en.wikipedia.org/wiki/2020_coronavirus...</td>\n",
              "    </tr>\n",
              "    <tr>\n",
              "      <th>4</th>\n",
              "      <td>US</td>\n",
              "      <td>83.0</td>\n",
              "      <td>Partial</td>\n",
              "      <td>https://en.wikipedia.org/wiki/2020_coronavirus...</td>\n",
              "    </tr>\n",
              "  </tbody>\n",
              "</table>\n",
              "</div>"
            ],
            "text/plain": [
              "   Country/Region  ...                                          Reference\n",
              "0  Mainland China  ...  https://en.wikipedia.org/wiki/2019%E2%80%9320_...\n",
              "1       Hong Kong  ...  https://en.wikipedia.org/wiki/2020_coronavirus...\n",
              "2           Macau  ...  https://en.wikipedia.org/wiki/2020_coronavirus...\n",
              "3          Taiwan  ...  https://en.wikipedia.org/wiki/2020_coronavirus...\n",
              "4              US  ...  https://en.wikipedia.org/wiki/2020_coronavirus...\n",
              "\n",
              "[5 rows x 4 columns]"
            ]
          },
          "metadata": {
            "tags": []
          },
          "execution_count": 27
        }
      ]
    },
    {
      "cell_type": "code",
      "metadata": {
        "id": "vqrHCCRP4vxY"
      },
      "source": [
        "lock=pd.merge(train, lockdowns2, left_on = \"Country_Region\", right_on = \"Country/Region\", how = \"left\")"
      ],
      "execution_count": null,
      "outputs": []
    },
    {
      "cell_type": "code",
      "metadata": {
        "id": "vd6eYVx14zGk"
      },
      "source": [
        "TrainxN = lock[['Countries','dayofweek','month','dayofyear','weekofyear','density','medianage','urbanpop','DAYS SINCE']]"
      ],
      "execution_count": null,
      "outputs": []
    },
    {
      "cell_type": "code",
      "metadata": {
        "id": "uacsl3BM9Mq-"
      },
      "source": [
        "from xgboost import XGBRegressor"
      ],
      "execution_count": null,
      "outputs": []
    },
    {
      "cell_type": "code",
      "metadata": {
        "id": "5Ks92Rfl41i3"
      },
      "source": [
        "XGN=XGBRegressor(objective ='reg:squarederror',n_estimators=1000)"
      ],
      "execution_count": null,
      "outputs": []
    },
    {
      "cell_type": "code",
      "metadata": {
        "id": "LQoTH9DE5IvC"
      },
      "source": [
        "yf=train[\"Fatalities\"]\n",
        "yc=train[\"ConfirmedCases\"]"
      ],
      "execution_count": null,
      "outputs": []
    },
    {
      "cell_type": "code",
      "metadata": {
        "id": "Qxhr_7Mr43GW",
        "colab": {
          "base_uri": "https://localhost:8080/"
        },
        "outputId": "28f751f3-3e5a-430c-dd7d-fd0cbd5881d0"
      },
      "source": [
        "XGN.fit(TrainxN, yf, verbose=True)"
      ],
      "execution_count": null,
      "outputs": [
        {
          "output_type": "execute_result",
          "data": {
            "text/plain": [
              "XGBRegressor(base_score=0.5, booster='gbtree', colsample_bylevel=1,\n",
              "             colsample_bynode=1, colsample_bytree=1, gamma=0,\n",
              "             importance_type='gain', learning_rate=0.1, max_delta_step=0,\n",
              "             max_depth=3, min_child_weight=1, missing=None, n_estimators=1000,\n",
              "             n_jobs=1, nthread=None, objective='reg:squarederror',\n",
              "             random_state=0, reg_alpha=0, reg_lambda=1, scale_pos_weight=1,\n",
              "             seed=None, silent=None, subsample=1, verbosity=1)"
            ]
          },
          "metadata": {
            "tags": []
          },
          "execution_count": 33
        }
      ]
    },
    {
      "cell_type": "code",
      "metadata": {
        "id": "V9tcQbTr58CZ"
      },
      "source": [
        ""
      ],
      "execution_count": null,
      "outputs": []
    },
    {
      "cell_type": "code",
      "metadata": {
        "id": "gNzN-2do5P5p"
      },
      "source": [
        "from xgboost import plot_importance, plot_tree"
      ],
      "execution_count": null,
      "outputs": []
    },
    {
      "cell_type": "code",
      "metadata": {
        "id": "lB9wHyBv5SI1",
        "colab": {
          "base_uri": "https://localhost:8080/"
        },
        "outputId": "43cb9ba6-67c9-4cb8-dfc4-4c46ebeacb51"
      },
      "source": [
        "plot = plot_importance(XGN, height=0.9, max_num_features=20)\n",
        "plt.title('Feature Importance for predicting Fatalities')\n",
        "plt.savefig('feature importance')\n",
        "#Importance of features for predicting Fatalities"
      ],
      "execution_count": null,
      "outputs": [
        {
          "output_type": "display_data",
          "data": {
            "image/png": "[encoded data removed]",
            "text/plain": [
              "<Figure size 432x288 with 1 Axes>"
            ]
          },
          "metadata": {
            "tags": [],
            "needs_background": "light"
          }
        }
      ]
    },
    {
      "cell_type": "code",
      "metadata": {
        "id": "P3rlHhRt5kA5",
        "colab": {
          "base_uri": "https://localhost:8080/"
        },
        "outputId": "3d1b54a7-2497-4a5d-af91-afefa83c6a4a"
      },
      "source": [
        "XGN.fit(TrainxN, yc, verbose=True)\n",
        "\n",
        "plot = plot_importance(XGN, height=0.9, max_num_features=20)\n",
        "plt.title('Feature Importance for predicting Confirmed Cases')\n",
        "plt.savefig('feature importance2')\n",
        "#importance of features for predicting Confirmed Cases"
      ],
      "execution_count": null,
      "outputs": [
        {
          "output_type": "display_data",
          "data": {
            "image/png": "[encoded data removed]",
            "text/plain": [
              "<Figure size 432x288 with 1 Axes>"
            ]
          },
          "metadata": {
            "tags": [],
            "needs_background": "light"
          }
        }
      ]
    },
    {
      "cell_type": "markdown",
      "metadata": {
        "id": "9pmJvJa96faW"
      },
      "source": [
        "As dayofyear is used as the x co-ordinate in an exponential growth, it makes sense that it sees the largest feature importance. \n",
        "\n",
        "Countries being in different stages of their respective outbreaks, and with different governmental responses and healthcare systems, alongside many other factors, as expected play an important part in predicting both cases and fatalities\n",
        "\n",
        "We know that older people are more vunerable to the virus, and this was confirmed by its relative importance as a feature\n",
        "\n",
        "Density and urban pop (Urban pop being the % of the population living in an urban environment) are features you would expect to see large correlations with eachother, and as such they have relatively equal importance across both predictions. \n",
        "\n",
        "Rather surprisingly, the day of the year which a country started lockdown, named DAYS SINCE, has very little correlation with prediction. \n",
        "\n",
        "I believe this may be explained by the fact that as this data was earlier in the year, many countries had not yet started a lockdown, scewing its importance. Also for countries that had instituted a lockdown, it needs time for there to be a relative response in confirmed cases as the amount of testing would be rapidly increasing in this time."
      ]
    },
    {
      "cell_type": "markdown",
      "metadata": {
        "id": "BTeDSSthAICH"
      },
      "source": [
        "#Premilinary Model Building"
      ]
    },
    {
      "cell_type": "code",
      "metadata": {
        "id": "rLilZ2G5AdJP"
      },
      "source": [
        ""
      ],
      "execution_count": null,
      "outputs": []
    },
    {
      "cell_type": "code",
      "metadata": {
        "id": "XB22xf_QAK2c"
      },
      "source": [
        "#Defining the equation used that Kaggle competition rates model on, RMSLE\n",
        "def RMSLE(pred,actual):\n",
        "    return np.sqrt(np.mean(np.power((np.log(pred+1)-np.log(actual+1)),2)))"
      ],
      "execution_count": null,
      "outputs": []
    },
    {
      "cell_type": "code",
      "metadata": {
        "id": "PGbVt5kQANIY"
      },
      "source": [
        "from sklearn.linear_model import LinearRegression\n",
        "\n",
        "from sklearn.model_selection import cross_val_score\n",
        "from sklearn.model_selection import cross_val_predict"
      ],
      "execution_count": null,
      "outputs": []
    },
    {
      "cell_type": "markdown",
      "metadata": {
        "id": "xC0b2ajGAVka"
      },
      "source": [
        "##Linear Regression"
      ]
    },
    {
      "cell_type": "code",
      "metadata": {
        "id": "i1AeGj72AOT0",
        "colab": {
          "base_uri": "https://localhost:8080/"
        },
        "outputId": "01933c5e-b7a7-4f3e-bb7b-cb283223146b"
      },
      "source": [
        "LinMod1= LinearRegression()\n",
        "y_vals1=cross_val_predict(LinMod1,Training_x,Training_y,cv=5)\n",
        "RMSLE(y_vals1,Training_y)"
      ],
      "execution_count": null,
      "outputs": [
        {
          "output_type": "stream",
          "text": [
            "/usr/local/lib/python3.6/dist-packages/ipykernel_launcher.py:3: RuntimeWarning: invalid value encountered in log\n",
            "  This is separate from the ipykernel package so we can avoid doing imports until\n"
          ],
          "name": "stderr"
        },
        {
          "output_type": "execute_result",
          "data": {
            "text/plain": [
              "ConfirmedCases    4.864068\n",
              "Fatalities        3.187960\n",
              "dtype: float64"
            ]
          },
          "metadata": {
            "tags": []
          },
          "execution_count": 39
        }
      ]
    },
    {
      "cell_type": "code",
      "metadata": {
        "id": "4etug-L4APxS"
      },
      "source": [
        ""
      ],
      "execution_count": null,
      "outputs": []
    },
    {
      "cell_type": "markdown",
      "metadata": {
        "id": "laIOtiH6AY_C"
      },
      "source": [
        "##Decision Tree"
      ]
    },
    {
      "cell_type": "code",
      "metadata": {
        "id": "IcY-BKTmAcfI",
        "colab": {
          "base_uri": "https://localhost:8080/"
        },
        "outputId": "cc8eb2cd-3aec-43af-8d4c-9d339ec41c4a"
      },
      "source": [
        "from sklearn.tree import DecisionTreeRegressor\n",
        "DTreeMod = DecisionTreeRegressor()\n",
        "y_vals2=cross_val_predict(DTreeMod,Training_x,Training_y,cv=5)\n",
        "RMSLE(y_vals2,Training_y)"
      ],
      "execution_count": null,
      "outputs": [
        {
          "output_type": "execute_result",
          "data": {
            "text/plain": [
              "ConfirmedCases    3.232516\n",
              "Fatalities        2.144024\n",
              "dtype: float64"
            ]
          },
          "metadata": {
            "tags": []
          },
          "execution_count": 40
        }
      ]
    },
    {
      "cell_type": "markdown",
      "metadata": {
        "id": "tizJm3DdAd6a"
      },
      "source": [
        "##Random Forest Regressor"
      ]
    },
    {
      "cell_type": "code",
      "metadata": {
        "id": "9H8XgedDAgYZ",
        "colab": {
          "base_uri": "https://localhost:8080/"
        },
        "outputId": "0ee3db4f-a513-44b6-9f8b-eb29601db676"
      },
      "source": [
        "from sklearn.ensemble import RandomForestRegressor\n",
        "\n",
        "RForMod = RandomForestRegressor()\n",
        "y_vals3=cross_val_predict(RForMod,Training_x,Training_y,cv=5)\n",
        "RMSLE(y_vals3,Training_y)"
      ],
      "execution_count": null,
      "outputs": [
        {
          "output_type": "execute_result",
          "data": {
            "text/plain": [
              "ConfirmedCases    3.363538\n",
              "Fatalities        2.178843\n",
              "dtype: float64"
            ]
          },
          "metadata": {
            "tags": []
          },
          "execution_count": 41
        }
      ]
    },
    {
      "cell_type": "markdown",
      "metadata": {
        "id": "cGDKk4-nAiwV"
      },
      "source": [
        "##Linear Support vector machine"
      ]
    },
    {
      "cell_type": "code",
      "metadata": {
        "id": "e3k0JncKAkqz",
        "colab": {
          "base_uri": "https://localhost:8080/"
        },
        "outputId": "8cfb2117-a058-4a67-8e81-afb36cfac25e"
      },
      "source": [
        "#linearSVM only supports a 1d output. The regressor chain lets us predict both values while also fitting data well\n",
        "from sklearn.multioutput import RegressorChain\n",
        "from sklearn.svm import LinearSVR\n",
        "\n",
        "model4 = LinearSVR()\n",
        "wrapper1 = RegressorChain(model4)\n",
        "\n",
        "\n",
        "y_vals4=cross_val_predict(wrapper1,Training_x,Training_y,cv=5)\n",
        "RMSLE(y_vals4,Training_y)"
      ],
      "execution_count": null,
      "outputs": [
        {
          "output_type": "stream",
          "text": [
            "/usr/local/lib/python3.6/dist-packages/sklearn/svm/_base.py:947: ConvergenceWarning: Liblinear failed to converge, increase the number of iterations.\n",
            "  \"the number of iterations.\", ConvergenceWarning)\n",
            "/usr/local/lib/python3.6/dist-packages/sklearn/svm/_base.py:947: ConvergenceWarning: Liblinear failed to converge, increase the number of iterations.\n",
            "  \"the number of iterations.\", ConvergenceWarning)\n",
            "/usr/local/lib/python3.6/dist-packages/sklearn/svm/_base.py:947: ConvergenceWarning: Liblinear failed to converge, increase the number of iterations.\n",
            "  \"the number of iterations.\", ConvergenceWarning)\n",
            "/usr/local/lib/python3.6/dist-packages/sklearn/svm/_base.py:947: ConvergenceWarning: Liblinear failed to converge, increase the number of iterations.\n",
            "  \"the number of iterations.\", ConvergenceWarning)\n",
            "/usr/local/lib/python3.6/dist-packages/sklearn/svm/_base.py:947: ConvergenceWarning: Liblinear failed to converge, increase the number of iterations.\n",
            "  \"the number of iterations.\", ConvergenceWarning)\n",
            "/usr/local/lib/python3.6/dist-packages/sklearn/svm/_base.py:947: ConvergenceWarning: Liblinear failed to converge, increase the number of iterations.\n",
            "  \"the number of iterations.\", ConvergenceWarning)\n",
            "/usr/local/lib/python3.6/dist-packages/sklearn/svm/_base.py:947: ConvergenceWarning: Liblinear failed to converge, increase the number of iterations.\n",
            "  \"the number of iterations.\", ConvergenceWarning)\n",
            "/usr/local/lib/python3.6/dist-packages/sklearn/svm/_base.py:947: ConvergenceWarning: Liblinear failed to converge, increase the number of iterations.\n",
            "  \"the number of iterations.\", ConvergenceWarning)\n",
            "/usr/local/lib/python3.6/dist-packages/sklearn/svm/_base.py:947: ConvergenceWarning: Liblinear failed to converge, increase the number of iterations.\n",
            "  \"the number of iterations.\", ConvergenceWarning)\n",
            "/usr/local/lib/python3.6/dist-packages/sklearn/svm/_base.py:947: ConvergenceWarning: Liblinear failed to converge, increase the number of iterations.\n",
            "  \"the number of iterations.\", ConvergenceWarning)\n",
            "/usr/local/lib/python3.6/dist-packages/ipykernel_launcher.py:3: RuntimeWarning: invalid value encountered in log\n",
            "  This is separate from the ipykernel package so we can avoid doing imports until\n"
          ],
          "name": "stderr"
        },
        {
          "output_type": "execute_result",
          "data": {
            "text/plain": [
              "ConfirmedCases    2.623372\n",
              "Fatalities        1.279459\n",
              "dtype: float64"
            ]
          },
          "metadata": {
            "tags": []
          },
          "execution_count": 42
        }
      ]
    },
    {
      "cell_type": "code",
      "metadata": {
        "id": "xa_haF6uA2wi",
        "colab": {
          "base_uri": "https://localhost:8080/"
        },
        "outputId": "ea6b2ea3-4932-4c06-e5ad-27570586961d"
      },
      "source": [
        "Training_y['Fatalities'].max()"
      ],
      "execution_count": null,
      "outputs": [
        {
          "output_type": "execute_result",
          "data": {
            "text/plain": [
              "12428.0"
            ]
          },
          "metadata": {
            "tags": []
          },
          "execution_count": 43
        }
      ]
    },
    {
      "cell_type": "code",
      "metadata": {
        "id": "9X9nwXGhA72O"
      },
      "source": [
        "svrrvals=pd.DataFrame(y_vals4)"
      ],
      "execution_count": null,
      "outputs": []
    },
    {
      "cell_type": "code",
      "metadata": {
        "id": "i_12eRsxA9cc",
        "colab": {
          "base_uri": "https://localhost:8080/"
        },
        "outputId": "771c9d53-2f18-4012-cd0c-2894d4a06650"
      },
      "source": [
        "svrrvals[0].max()"
      ],
      "execution_count": null,
      "outputs": [
        {
          "output_type": "execute_result",
          "data": {
            "text/plain": [
              "50.71314888637507"
            ]
          },
          "metadata": {
            "tags": []
          },
          "execution_count": 45
        }
      ]
    },
    {
      "cell_type": "code",
      "metadata": {
        "id": "xkQ_ZHNGBKZC"
      },
      "source": [
        "##Uploading initial linearSVM model to kaggle"
      ],
      "execution_count": null,
      "outputs": []
    },
    {
      "cell_type": "markdown",
      "metadata": {
        "id": "sQ1MWEEZBV6X"
      },
      "source": [
        "##Uploading initial linearSVM model to kaggle"
      ]
    },
    {
      "cell_type": "code",
      "metadata": {
        "id": "upUgge9oBWUF"
      },
      "source": [
        "from sklearn.multioutput import MultiOutputRegressor\n",
        "LinSVR = LinearSVR()\n",
        "wrapperSVR = MultiOutputRegressor(LinSVR)"
      ],
      "execution_count": null,
      "outputs": []
    },
    {
      "cell_type": "code",
      "metadata": {
        "id": "I9Vfv_FPBXd2",
        "colab": {
          "base_uri": "https://localhost:8080/"
        },
        "outputId": "3658896c-9345-4da4-a4e8-93201f417160"
      },
      "source": [
        "wrapperSVR.fit(Training_x,Training_y)\n",
        "vals = wrapperSVR.predict(Test_x)\n",
        "preds=pd.DataFrame(vals)"
      ],
      "execution_count": null,
      "outputs": [
        {
          "output_type": "stream",
          "text": [
            "/usr/local/lib/python3.6/dist-packages/sklearn/svm/_base.py:947: ConvergenceWarning: Liblinear failed to converge, increase the number of iterations.\n",
            "  \"the number of iterations.\", ConvergenceWarning)\n",
            "/usr/local/lib/python3.6/dist-packages/sklearn/svm/_base.py:947: ConvergenceWarning: Liblinear failed to converge, increase the number of iterations.\n",
            "  \"the number of iterations.\", ConvergenceWarning)\n"
          ],
          "name": "stderr"
        }
      ]
    },
    {
      "cell_type": "code",
      "metadata": {
        "id": "PuawKUEYBvWp",
        "colab": {
          "base_uri": "https://localhost:8080/"
        },
        "outputId": "3d0fec84-82a9-45a9-c363-fb43807adf6d"
      },
      "source": [
        "preds[0].max()"
      ],
      "execution_count": null,
      "outputs": [
        {
          "output_type": "execute_result",
          "data": {
            "text/plain": [
              "392.521486845336"
            ]
          },
          "metadata": {
            "tags": []
          },
          "execution_count": 49
        }
      ]
    },
    {
      "cell_type": "code",
      "metadata": {
        "id": "Toiknpg3BZ5I"
      },
      "source": [
        "submits=submission[[\"ForecastId\"]]"
      ],
      "execution_count": null,
      "outputs": []
    },
    {
      "cell_type": "code",
      "metadata": {
        "id": "YIVXZ5KHBbKF",
        "colab": {
          "base_uri": "https://localhost:8080/"
        },
        "outputId": "2ac48d33-20db-4e94-bb9f-d915d37f1d31"
      },
      "source": [
        "Final_submission = pd.concat([preds,submits],axis=1)\n",
        "Final_submission.columns = ['ConfirmedCases', 'Fatalities', 'ForecastId']\n",
        "Final_submission1 = Final_submission[['ForecastId','ConfirmedCases', 'Fatalities']]\n",
        "Final_submission1.head()"
      ],
      "execution_count": null,
      "outputs": [
        {
          "output_type": "execute_result",
          "data": {
            "text/html": [
              "<div>\n",
              "<style scoped>\n",
              "    .dataframe tbody tr th:only-of-type {\n",
              "        vertical-align: middle;\n",
              "    }\n",
              "\n",
              "    .dataframe tbody tr th {\n",
              "        vertical-align: top;\n",
              "    }\n",
              "\n",
              "    .dataframe thead th {\n",
              "        text-align: right;\n",
              "    }\n",
              "</style>\n",
              "<table border=\"1\" class=\"dataframe\">\n",
              "  <thead>\n",
              "    <tr style=\"text-align: right;\">\n",
              "      <th></th>\n",
              "      <th>ForecastId</th>\n",
              "      <th>ConfirmedCases</th>\n",
              "      <th>Fatalities</th>\n",
              "    </tr>\n",
              "  </thead>\n",
              "  <tbody>\n",
              "    <tr>\n",
              "      <th>0</th>\n",
              "      <td>1</td>\n",
              "      <td>11.908480</td>\n",
              "      <td>-0.291921</td>\n",
              "    </tr>\n",
              "    <tr>\n",
              "      <th>1</th>\n",
              "      <td>2</td>\n",
              "      <td>12.872632</td>\n",
              "      <td>-0.225264</td>\n",
              "    </tr>\n",
              "    <tr>\n",
              "      <th>2</th>\n",
              "      <td>3</td>\n",
              "      <td>13.836784</td>\n",
              "      <td>-0.158608</td>\n",
              "    </tr>\n",
              "    <tr>\n",
              "      <th>3</th>\n",
              "      <td>4</td>\n",
              "      <td>14.800936</td>\n",
              "      <td>-0.091951</td>\n",
              "    </tr>\n",
              "    <tr>\n",
              "      <th>4</th>\n",
              "      <td>5</td>\n",
              "      <td>14.931566</td>\n",
              "      <td>-0.016775</td>\n",
              "    </tr>\n",
              "  </tbody>\n",
              "</table>\n",
              "</div>"
            ],
            "text/plain": [
              "   ForecastId  ConfirmedCases  Fatalities\n",
              "0           1       11.908480   -0.291921\n",
              "1           2       12.872632   -0.225264\n",
              "2           3       13.836784   -0.158608\n",
              "3           4       14.800936   -0.091951\n",
              "4           5       14.931566   -0.016775"
            ]
          },
          "metadata": {
            "tags": []
          },
          "execution_count": 51
        }
      ]
    },
    {
      "cell_type": "code",
      "metadata": {
        "id": "AePz8X8FBcSx"
      },
      "source": [
        "Final_submission1[\"ConfirmedCases\"] = Final_submission1[\"ConfirmedCases\"].astype(int)\n",
        "Final_submission1[\"Fatalities\"] = Final_submission1[\"Fatalities\"].astype(int)"
      ],
      "execution_count": null,
      "outputs": []
    },
    {
      "cell_type": "code",
      "metadata": {
        "id": "GuowbrPyBdYz"
      },
      "source": [
        "Final_submission1.to_csv(\"submission30.csv\",index=False)"
      ],
      "execution_count": null,
      "outputs": []
    },
    {
      "cell_type": "markdown",
      "metadata": {
        "id": "VXDHnfX0Bg3I"
      },
      "source": [
        "LinearSVM Produced a rmsle of 2.50902 on the test data. (From Kaggle). We see our max predicted number of cases is only 236, extremely low. \n"
      ]
    },
    {
      "cell_type": "markdown",
      "metadata": {
        "id": "SyYKj8e8B3Gg"
      },
      "source": [
        "This initial fitting across all countries is naive- Considering most of the 173 countries in the dataset had no yet experienced an outbreak, this is heavily scewing models to produce extremely low confirmed case and fatality predictions. We will have to fit for individual countries"
      ]
    },
    {
      "cell_type": "markdown",
      "metadata": {
        "id": "rYeDUy6MCL1D"
      },
      "source": [
        "#Trying to fit individual countries"
      ]
    },
    {
      "cell_type": "code",
      "metadata": {
        "id": "tTBoduCiCN5z",
        "colab": {
          "base_uri": "https://localhost:8080/"
        },
        "outputId": "b70e0fa9-984e-485e-adb1-821cfb45307f"
      },
      "source": [
        "country_data = train[train['Country_Region']=='Italy']\n",
        "italydat=country_data\n",
        "country_data = country_data.drop(['Id','Province_State'], axis=1)\n",
        "country_data = pd.pivot_table(country_data, values=['ConfirmedCases','Fatalities'], index=['date'], aggfunc=np.sum)\n",
        "country_data.tail()"
      ],
      "execution_count": null,
      "outputs": [
        {
          "output_type": "execute_result",
          "data": {
            "text/html": [
              "<div>\n",
              "<style scoped>\n",
              "    .dataframe tbody tr th:only-of-type {\n",
              "        vertical-align: middle;\n",
              "    }\n",
              "\n",
              "    .dataframe tbody tr th {\n",
              "        vertical-align: top;\n",
              "    }\n",
              "\n",
              "    .dataframe thead th {\n",
              "        text-align: right;\n",
              "    }\n",
              "</style>\n",
              "<table border=\"1\" class=\"dataframe\">\n",
              "  <thead>\n",
              "    <tr style=\"text-align: right;\">\n",
              "      <th></th>\n",
              "      <th>ConfirmedCases</th>\n",
              "      <th>Fatalities</th>\n",
              "    </tr>\n",
              "    <tr>\n",
              "      <th>date</th>\n",
              "      <th></th>\n",
              "      <th></th>\n",
              "    </tr>\n",
              "  </thead>\n",
              "  <tbody>\n",
              "    <tr>\n",
              "      <th>2020-03-27</th>\n",
              "      <td>86498.0</td>\n",
              "      <td>9134.0</td>\n",
              "    </tr>\n",
              "    <tr>\n",
              "      <th>2020-03-28</th>\n",
              "      <td>92472.0</td>\n",
              "      <td>10023.0</td>\n",
              "    </tr>\n",
              "    <tr>\n",
              "      <th>2020-03-29</th>\n",
              "      <td>97689.0</td>\n",
              "      <td>10779.0</td>\n",
              "    </tr>\n",
              "    <tr>\n",
              "      <th>2020-03-30</th>\n",
              "      <td>101739.0</td>\n",
              "      <td>11591.0</td>\n",
              "    </tr>\n",
              "    <tr>\n",
              "      <th>2020-03-31</th>\n",
              "      <td>105792.0</td>\n",
              "      <td>12428.0</td>\n",
              "    </tr>\n",
              "  </tbody>\n",
              "</table>\n",
              "</div>"
            ],
            "text/plain": [
              "            ConfirmedCases  Fatalities\n",
              "date                                  \n",
              "2020-03-27         86498.0      9134.0\n",
              "2020-03-28         92472.0     10023.0\n",
              "2020-03-29         97689.0     10779.0\n",
              "2020-03-30        101739.0     11591.0\n",
              "2020-03-31        105792.0     12428.0"
            ]
          },
          "metadata": {
            "tags": []
          },
          "execution_count": 54
        }
      ]
    },
    {
      "cell_type": "code",
      "metadata": {
        "id": "yk0hah3RCSrX",
        "colab": {
          "base_uri": "https://localhost:8080/"
        },
        "outputId": "7d3f5f7b-f53b-4308-bd74-73bba2bdaced"
      },
      "source": [
        "train['Country_Region'].value_counts()"
      ],
      "execution_count": null,
      "outputs": [
        {
          "output_type": "execute_result",
          "data": {
            "text/plain": [
              "US                        3780\n",
              "China                     2310\n",
              "France                     700\n",
              "Canada                     700\n",
              "Australia                  560\n",
              "                          ... \n",
              "Eritrea                     70\n",
              "Tanzania                    70\n",
              "Kyrgyzstan                  70\n",
              "Bosnia and Herzegovina      70\n",
              "Taiwan*                     70\n",
              "Name: Country_Region, Length: 173, dtype: int64"
            ]
          },
          "metadata": {
            "tags": []
          },
          "execution_count": 55
        }
      ]
    },
    {
      "cell_type": "code",
      "metadata": {
        "id": "_WvJYsKuCTy9"
      },
      "source": [
        "italydat_x=italydat[['Countries','dayofweek','month','dayofyear','weekofyear','density','medianage','urbanpop']]"
      ],
      "execution_count": null,
      "outputs": []
    },
    {
      "cell_type": "code",
      "metadata": {
        "id": "-Vi3Kxc8CVDR"
      },
      "source": [
        "from numpy import *"
      ],
      "execution_count": null,
      "outputs": []
    },
    {
      "cell_type": "code",
      "metadata": {
        "id": "ssW0n7XsCVko"
      },
      "source": [
        "italydat_y=italydat[['ConfirmedCases','Fatalities']]"
      ],
      "execution_count": null,
      "outputs": []
    },
    {
      "cell_type": "markdown",
      "metadata": {
        "id": "aRjgcxwTCayl"
      },
      "source": [
        "Because we have exponential growth, I will take the log of the y data to hopefully produce a straight line that can then be fitted."
      ]
    },
    {
      "cell_type": "code",
      "metadata": {
        "id": "N5Q7QyE3CXmy",
        "colab": {
          "base_uri": "https://localhost:8080/"
        },
        "outputId": "c913ca50-4e99-4c67-a7b3-c0f26efd07e5"
      },
      "source": [
        "logI_y=italydat_y.apply(lambda x: np.log(x))\n",
        "#logI_y[isneginf(logI_y)]=0\n",
        "logI_y.replace([np.inf, -np.inf], 0, inplace=True)"
      ],
      "execution_count": null,
      "outputs": [
        {
          "output_type": "stream",
          "text": [
            "/usr/local/lib/python3.6/dist-packages/pandas/core/series.py:679: RuntimeWarning: divide by zero encountered in log\n",
            "  result = getattr(ufunc, method)(*inputs, **kwargs)\n"
          ],
          "name": "stderr"
        }
      ]
    },
    {
      "cell_type": "code",
      "metadata": {
        "id": "5J8gGBjACYIp",
        "colab": {
          "base_uri": "https://localhost:8080/"
        },
        "outputId": "5e952699-2813-49a0-a45e-e9464d07b0c8"
      },
      "source": [
        "from sklearn.multioutput import RegressorChain\n",
        "from sklearn.svm import LinearSVR\n",
        "\n",
        "italymod = LinearSVR()\n",
        "italywrap = RegressorChain(italymod)\n",
        "\n",
        "\n",
        "y_italy1=cross_val_predict(italywrap,italydat_x,logI_y,cv=5)\n",
        "RMSLE(y_italy1,logI_y)"
      ],
      "execution_count": null,
      "outputs": [
        {
          "output_type": "stream",
          "text": [
            "/usr/local/lib/python3.6/dist-packages/sklearn/svm/_base.py:947: ConvergenceWarning: Liblinear failed to converge, increase the number of iterations.\n",
            "  \"the number of iterations.\", ConvergenceWarning)\n",
            "/usr/local/lib/python3.6/dist-packages/sklearn/svm/_base.py:947: ConvergenceWarning: Liblinear failed to converge, increase the number of iterations.\n",
            "  \"the number of iterations.\", ConvergenceWarning)\n",
            "/usr/local/lib/python3.6/dist-packages/sklearn/svm/_base.py:947: ConvergenceWarning: Liblinear failed to converge, increase the number of iterations.\n",
            "  \"the number of iterations.\", ConvergenceWarning)\n",
            "/usr/local/lib/python3.6/dist-packages/sklearn/svm/_base.py:947: ConvergenceWarning: Liblinear failed to converge, increase the number of iterations.\n",
            "  \"the number of iterations.\", ConvergenceWarning)\n",
            "/usr/local/lib/python3.6/dist-packages/sklearn/svm/_base.py:947: ConvergenceWarning: Liblinear failed to converge, increase the number of iterations.\n",
            "  \"the number of iterations.\", ConvergenceWarning)\n",
            "/usr/local/lib/python3.6/dist-packages/sklearn/svm/_base.py:947: ConvergenceWarning: Liblinear failed to converge, increase the number of iterations.\n",
            "  \"the number of iterations.\", ConvergenceWarning)\n",
            "/usr/local/lib/python3.6/dist-packages/sklearn/svm/_base.py:947: ConvergenceWarning: Liblinear failed to converge, increase the number of iterations.\n",
            "  \"the number of iterations.\", ConvergenceWarning)\n",
            "/usr/local/lib/python3.6/dist-packages/sklearn/svm/_base.py:947: ConvergenceWarning: Liblinear failed to converge, increase the number of iterations.\n",
            "  \"the number of iterations.\", ConvergenceWarning)\n",
            "/usr/local/lib/python3.6/dist-packages/sklearn/svm/_base.py:947: ConvergenceWarning: Liblinear failed to converge, increase the number of iterations.\n",
            "  \"the number of iterations.\", ConvergenceWarning)\n",
            "/usr/local/lib/python3.6/dist-packages/sklearn/svm/_base.py:947: ConvergenceWarning: Liblinear failed to converge, increase the number of iterations.\n",
            "  \"the number of iterations.\", ConvergenceWarning)\n",
            "/usr/local/lib/python3.6/dist-packages/ipykernel_launcher.py:3: RuntimeWarning: invalid value encountered in log\n",
            "  This is separate from the ipykernel package so we can avoid doing imports until\n"
          ],
          "name": "stderr"
        },
        {
          "output_type": "execute_result",
          "data": {
            "text/plain": [
              "ConfirmedCases    0.592166\n",
              "Fatalities        0.675436\n",
              "dtype: float64"
            ]
          },
          "metadata": {
            "tags": []
          },
          "execution_count": 60
        }
      ]
    },
    {
      "cell_type": "markdown",
      "metadata": {
        "id": "a2ObrM8rDj56"
      },
      "source": [
        "We see low RMSLE values when fitting the straight line"
      ]
    },
    {
      "cell_type": "code",
      "metadata": {
        "id": "_VnOauJoCml9"
      },
      "source": [
        "#Im now taking the exponential of that straight line fit to get us back to normal scale.\n",
        "y_italy1=np.exp(y_italy1)\n",
        "y_italy1=pd.DataFrame(y_italy1)\n",
        "x_it = range(len(y_italy1.index))\n",
        "y_it = y_italy1[0]\n",
        "\n",
        "\n",
        "#x_data5 = range(len(country_data5.index))\n",
        "#y_data5 = country_data5['ConfirmedCases']"
      ],
      "execution_count": null,
      "outputs": []
    },
    {
      "cell_type": "code",
      "metadata": {
        "id": "Zlrwll_1DY_a"
      },
      "source": [
        "\n",
        "x_data = range(len(italydat.index))\n",
        "y_data = italydat['ConfirmedCases']"
      ],
      "execution_count": null,
      "outputs": []
    },
    {
      "cell_type": "code",
      "metadata": {
        "id": "vx2ZX7kaCm74",
        "colab": {
          "base_uri": "https://localhost:8080/"
        },
        "outputId": "7f7d92ea-0539-4bc0-8f69-e9e04d1beb26"
      },
      "source": [
        "plt.figure()\n",
        "\n",
        "plt.plot(x_it,y_it,'b')\n",
        "plt.plot(x_data,y_data,'r')\n",
        "\n",
        "plt.show"
      ],
      "execution_count": null,
      "outputs": [
        {
          "output_type": "execute_result",
          "data": {
            "text/plain": [
              "<function matplotlib.pyplot.show>"
            ]
          },
          "metadata": {
            "tags": []
          },
          "execution_count": 63
        },
        {
          "output_type": "display_data",
          "data": {
            "image/png": "[encoded data removed]",
            "text/plain": [
              "<Figure size 432x288 with 1 Axes>"
            ]
          },
          "metadata": {
            "tags": [],
            "needs_background": "light"
          }
        }
      ]
    },
    {
      "cell_type": "markdown",
      "metadata": {
        "id": "4U3ryngoDzMQ"
      },
      "source": [
        "We can see that while we fit the data well when using a straight line, after we convert back by using the exponential, we see that there is a terrible discrepancy in values between the fit and the real data. This method clearly does not work."
      ]
    },
    {
      "cell_type": "code",
      "metadata": {
        "id": "0FGKvd7RD_1t"
      },
      "source": [
        ""
      ],
      "execution_count": null,
      "outputs": []
    },
    {
      "cell_type": "markdown",
      "metadata": {
        "id": "zXnOhsLeEFo9"
      },
      "source": [
        "##Trying to fit with logistic regression"
      ]
    },
    {
      "cell_type": "code",
      "metadata": {
        "id": "s2qfYe_9EHpT"
      },
      "source": [
        "from sklearn import preprocessing\n",
        "from sklearn.linear_model import LogisticRegression\n"
      ],
      "execution_count": null,
      "outputs": []
    },
    {
      "cell_type": "code",
      "metadata": {
        "id": "hpIX4zQNE211"
      },
      "source": [
        ""
      ],
      "execution_count": null,
      "outputs": []
    },
    {
      "cell_type": "code",
      "metadata": {
        "id": "TV4hpXUrE3om"
      },
      "source": [
        ""
      ],
      "execution_count": null,
      "outputs": []
    },
    {
      "cell_type": "code",
      "metadata": {
        "id": "bLWQOLRTEIiL",
        "colab": {
          "base_uri": "https://localhost:8080/"
        },
        "outputId": "dc0d63c5-2fc4-48d9-c8a8-86753aff2fe8"
      },
      "source": [
        "logregmod3=LogisticRegression(max_iter=1000)\n",
        "y_italylogreg3=cross_val_predict(logregmod3,italydat_x,y_data,cv=5)"
      ],
      "execution_count": null,
      "outputs": [
        {
          "output_type": "stream",
          "text": [
            "/usr/local/lib/python3.6/dist-packages/sklearn/model_selection/_split.py:667: UserWarning: The least populated class in y has only 1 members, which is less than n_splits=5.\n",
            "  % (min_groups, self.n_splits)), UserWarning)\n"
          ],
          "name": "stderr"
        }
      ]
    },
    {
      "cell_type": "code",
      "metadata": {
        "id": "ycnfLgSyEmdC",
        "colab": {
          "base_uri": "https://localhost:8080/"
        },
        "outputId": "36561e79-6df3-4e12-cccf-4e5aa5519589"
      },
      "source": [
        "RMSLE(y_italylogreg3,y_data)"
      ],
      "execution_count": null,
      "outputs": [
        {
          "output_type": "execute_result",
          "data": {
            "text/plain": [
              "0.44916126693160496"
            ]
          },
          "metadata": {
            "tags": []
          },
          "execution_count": 66
        }
      ]
    },
    {
      "cell_type": "code",
      "metadata": {
        "id": "F--6Vnp2ERfD",
        "colab": {
          "base_uri": "https://localhost:8080/"
        },
        "outputId": "0033fc89-5d38-415c-cb58-b408f117648a"
      },
      "source": [
        "fig = plt.figure()\n",
        "ax = fig.add_subplot(111)\n",
        "ax.set_title('Total Confirmed Cases in Italy, Fitted Model and Actual Values')\n",
        "ax.set_ylabel('Confirmed Cases')\n",
        "ax.set_xlabel('Days since 22nd of January')\n",
        "ax.plot(x_data, y_data, label='Confirmed Data')\n",
        "ax.plot(x_data, y_italylogreg3,'o', label='Confirmed Data')"
      ],
      "execution_count": null,
      "outputs": [
        {
          "output_type": "execute_result",
          "data": {
            "text/plain": [
              "[<matplotlib.lines.Line2D at 0x7fab08bb6400>]"
            ]
          },
          "metadata": {
            "tags": []
          },
          "execution_count": 67
        },
        {
          "output_type": "display_data",
          "data": {
            "image/png": "[encoded data removed]",
            "text/plain": [
              "<Figure size 432x288 with 1 Axes>"
            ]
          },
          "metadata": {
            "tags": [],
            "needs_background": "light"
          }
        }
      ]
    },
    {
      "cell_type": "markdown",
      "metadata": {
        "id": "4Zxi0IpSEgId"
      },
      "source": [
        "Logisitic regression fits the training set for italy very well."
      ]
    },
    {
      "cell_type": "markdown",
      "metadata": {
        "id": "QtzrZ7AIFHsM"
      },
      "source": [
        "#Now doing individual fits for every country"
      ]
    },
    {
      "cell_type": "code",
      "metadata": {
        "id": "GPnDm_MJFSA8"
      },
      "source": [
        "xtrain = pd.read_csv('train.csv')\n",
        "xtest = pd.read_csv('test.csv')\n",
        "xsubmission = pd.read_csv('submission.csv')"
      ],
      "execution_count": null,
      "outputs": []
    },
    {
      "cell_type": "code",
      "metadata": {
        "id": "-_J4vbIBFgkX",
        "colab": {
          "base_uri": "https://localhost:8080/",
          "height": 425
        },
        "outputId": "c274719f-8299-4ba9-c740-a06b8469d547"
      },
      "source": [
        "xtrain.rename(columns={'Country_Region':'Country'}, inplace=True)\n",
        "xtest.rename(columns={'Country_Region':'Country'}, inplace=True)\n",
        "\n",
        "xtrain.rename(columns={'Province_State':'State'}, inplace=True)\n",
        "xtest.rename(columns={'Province_State':'State'}, inplace=True)\n",
        "\n",
        "xtrain['Date'] = pd.to_datetime(xtrain['Date'], infer_datetime_format=True)\n",
        "xtest['Date'] = pd.to_datetime(xtest['Date'], infer_datetime_format=True)\n",
        "\n",
        "xtrain.info()\n",
        "xtest.info()\n",
        "\n",
        "y1_xTrain = xtrain.iloc[:, -2]\n",
        "y1_xTrain.head()\n",
        "y2_xTrain = xtrain.iloc[:, -1]\n",
        "y2_xTrain.head()\n",
        "\n",
        "EMPTY_VAL = \"EMPTY_VAL\"\n",
        "\n",
        "def fillState(state, country):\n",
        "    if state == EMPTY_VAL: return country\n",
        "    return state"
      ],
      "execution_count": null,
      "outputs": [
        {
          "output_type": "stream",
          "text": [
            "<class 'pandas.core.frame.DataFrame'>\n",
            "RangeIndex: 20580 entries, 0 to 20579\n",
            "Data columns (total 6 columns):\n",
            " #   Column          Non-Null Count  Dtype         \n",
            "---  ------          --------------  -----         \n",
            " 0   Id              20580 non-null  int64         \n",
            " 1   State           8750 non-null   object        \n",
            " 2   Country         20580 non-null  object        \n",
            " 3   Date            20580 non-null  datetime64[ns]\n",
            " 4   ConfirmedCases  20580 non-null  float64       \n",
            " 5   Fatalities      20580 non-null  float64       \n",
            "dtypes: datetime64[ns](1), float64(2), int64(1), object(2)\n",
            "memory usage: 964.8+ KB\n",
            "<class 'pandas.core.frame.DataFrame'>\n",
            "RangeIndex: 12642 entries, 0 to 12641\n",
            "Data columns (total 4 columns):\n",
            " #   Column      Non-Null Count  Dtype         \n",
            "---  ------      --------------  -----         \n",
            " 0   ForecastId  12642 non-null  int64         \n",
            " 1   State       5375 non-null   object        \n",
            " 2   Country     12642 non-null  object        \n",
            " 3   Date        12642 non-null  datetime64[ns]\n",
            "dtypes: datetime64[ns](1), int64(1), object(2)\n",
            "memory usage: 395.2+ KB\n"
          ],
          "name": "stdout"
        }
      ]
    },
    {
      "cell_type": "code",
      "metadata": {
        "id": "gKwglJWMFh80",
        "colab": {
          "base_uri": "https://localhost:8080/",
          "height": 204
        },
        "outputId": "87024bbc-b0a5-47a9-817f-985c6df296d1"
      },
      "source": [
        "X_xTrain = xtrain.copy()\n",
        "\n",
        "X_xTrain['State'].fillna(EMPTY_VAL, inplace=True)\n",
        "X_xTrain['State'] = X_xTrain.loc[:, ['State', 'Country']].apply(lambda x : fillState(x['State'], x['Country']), axis=1)\n",
        "\n",
        "X_xTrain.loc[:, 'Date'] = X_xTrain.Date.dt.strftime(\"%m%d\")\n",
        "X_xTrain[\"Date\"]  = X_xTrain[\"Date\"].astype(int)\n",
        "\n",
        "X_xTrain.head()\n",
        "\n",
        "#X_Test = df_test.loc[:, ['State', 'Country', 'Date']]\n",
        "X_xTest = xtest.copy()\n",
        "\n",
        "X_xTest['State'].fillna(EMPTY_VAL, inplace=True)\n",
        "X_xTest['State'] = X_xTest.loc[:, ['State', 'Country']].apply(lambda x : fillState(x['State'], x['Country']), axis=1)\n",
        "\n",
        "X_xTest.loc[:, 'Date'] = X_xTest.Date.dt.strftime(\"%m%d\")\n",
        "X_xTest[\"Date\"]  = X_xTest[\"Date\"].astype(int)\n",
        "\n",
        "X_xTest.head()"
      ],
      "execution_count": null,
      "outputs": [
        {
          "output_type": "execute_result",
          "data": {
            "text/html": [
              "<div>\n",
              "<style scoped>\n",
              "    .dataframe tbody tr th:only-of-type {\n",
              "        vertical-align: middle;\n",
              "    }\n",
              "\n",
              "    .dataframe tbody tr th {\n",
              "        vertical-align: top;\n",
              "    }\n",
              "\n",
              "    .dataframe thead th {\n",
              "        text-align: right;\n",
              "    }\n",
              "</style>\n",
              "<table border=\"1\" class=\"dataframe\">\n",
              "  <thead>\n",
              "    <tr style=\"text-align: right;\">\n",
              "      <th></th>\n",
              "      <th>ForecastId</th>\n",
              "      <th>State</th>\n",
              "      <th>Country</th>\n",
              "      <th>Date</th>\n",
              "    </tr>\n",
              "  </thead>\n",
              "  <tbody>\n",
              "    <tr>\n",
              "      <th>0</th>\n",
              "      <td>1</td>\n",
              "      <td>Afghanistan</td>\n",
              "      <td>Afghanistan</td>\n",
              "      <td>319</td>\n",
              "    </tr>\n",
              "    <tr>\n",
              "      <th>1</th>\n",
              "      <td>2</td>\n",
              "      <td>Afghanistan</td>\n",
              "      <td>Afghanistan</td>\n",
              "      <td>320</td>\n",
              "    </tr>\n",
              "    <tr>\n",
              "      <th>2</th>\n",
              "      <td>3</td>\n",
              "      <td>Afghanistan</td>\n",
              "      <td>Afghanistan</td>\n",
              "      <td>321</td>\n",
              "    </tr>\n",
              "    <tr>\n",
              "      <th>3</th>\n",
              "      <td>4</td>\n",
              "      <td>Afghanistan</td>\n",
              "      <td>Afghanistan</td>\n",
              "      <td>322</td>\n",
              "    </tr>\n",
              "    <tr>\n",
              "      <th>4</th>\n",
              "      <td>5</td>\n",
              "      <td>Afghanistan</td>\n",
              "      <td>Afghanistan</td>\n",
              "      <td>323</td>\n",
              "    </tr>\n",
              "  </tbody>\n",
              "</table>\n",
              "</div>"
            ],
            "text/plain": [
              "   ForecastId        State      Country  Date\n",
              "0           1  Afghanistan  Afghanistan   319\n",
              "1           2  Afghanistan  Afghanistan   320\n",
              "2           3  Afghanistan  Afghanistan   321\n",
              "3           4  Afghanistan  Afghanistan   322\n",
              "4           5  Afghanistan  Afghanistan   323"
            ]
          },
          "metadata": {
            "tags": []
          },
          "execution_count": 70
        }
      ]
    },
    {
      "cell_type": "code",
      "metadata": {
        "id": "5jHBcRVQFjoi",
        "colab": {
          "base_uri": "https://localhost:8080/",
          "height": 204
        },
        "outputId": "f29f1b5a-35c1-4e58-a303-e9ce7e0a31e4"
      },
      "source": [
        "from sklearn import preprocessing\n",
        "\n",
        "le = preprocessing.LabelEncoder()\n",
        "\n",
        "X_xTrain.Country = le.fit_transform(X_xTrain.Country)\n",
        "X_xTrain['State'] = le.fit_transform(X_xTrain['State'])\n",
        "\n",
        "X_xTrain.head()\n",
        "\n",
        "X_xTest.Country = le.fit_transform(X_xTest.Country)\n",
        "X_xTest['State'] = le.fit_transform(X_xTest['State'])\n",
        "\n",
        "X_xTest.head()\n",
        "\n",
        "xtrain.head()\n",
        "xtrain.loc[xtrain.Country == 'Afghanistan', :]\n",
        "xtest.tail()"
      ],
      "execution_count": null,
      "outputs": [
        {
          "output_type": "execute_result",
          "data": {
            "text/html": [
              "<div>\n",
              "<style scoped>\n",
              "    .dataframe tbody tr th:only-of-type {\n",
              "        vertical-align: middle;\n",
              "    }\n",
              "\n",
              "    .dataframe tbody tr th {\n",
              "        vertical-align: top;\n",
              "    }\n",
              "\n",
              "    .dataframe thead th {\n",
              "        text-align: right;\n",
              "    }\n",
              "</style>\n",
              "<table border=\"1\" class=\"dataframe\">\n",
              "  <thead>\n",
              "    <tr style=\"text-align: right;\">\n",
              "      <th></th>\n",
              "      <th>ForecastId</th>\n",
              "      <th>State</th>\n",
              "      <th>Country</th>\n",
              "      <th>Date</th>\n",
              "    </tr>\n",
              "  </thead>\n",
              "  <tbody>\n",
              "    <tr>\n",
              "      <th>12637</th>\n",
              "      <td>12638</td>\n",
              "      <td>NaN</td>\n",
              "      <td>Zimbabwe</td>\n",
              "      <td>2020-04-26</td>\n",
              "    </tr>\n",
              "    <tr>\n",
              "      <th>12638</th>\n",
              "      <td>12639</td>\n",
              "      <td>NaN</td>\n",
              "      <td>Zimbabwe</td>\n",
              "      <td>2020-04-27</td>\n",
              "    </tr>\n",
              "    <tr>\n",
              "      <th>12639</th>\n",
              "      <td>12640</td>\n",
              "      <td>NaN</td>\n",
              "      <td>Zimbabwe</td>\n",
              "      <td>2020-04-28</td>\n",
              "    </tr>\n",
              "    <tr>\n",
              "      <th>12640</th>\n",
              "      <td>12641</td>\n",
              "      <td>NaN</td>\n",
              "      <td>Zimbabwe</td>\n",
              "      <td>2020-04-29</td>\n",
              "    </tr>\n",
              "    <tr>\n",
              "      <th>12641</th>\n",
              "      <td>12642</td>\n",
              "      <td>NaN</td>\n",
              "      <td>Zimbabwe</td>\n",
              "      <td>2020-04-30</td>\n",
              "    </tr>\n",
              "  </tbody>\n",
              "</table>\n",
              "</div>"
            ],
            "text/plain": [
              "       ForecastId State   Country       Date\n",
              "12637       12638   NaN  Zimbabwe 2020-04-26\n",
              "12638       12639   NaN  Zimbabwe 2020-04-27\n",
              "12639       12640   NaN  Zimbabwe 2020-04-28\n",
              "12640       12641   NaN  Zimbabwe 2020-04-29\n",
              "12641       12642   NaN  Zimbabwe 2020-04-30"
            ]
          },
          "metadata": {
            "tags": []
          },
          "execution_count": 72
        }
      ]
    },
    {
      "cell_type": "code",
      "metadata": {
        "id": "fdEYF7FEFk_d"
      },
      "source": [
        "from warnings import filterwarnings\n",
        "filterwarnings('ignore')\n",
        "\n",
        "from sklearn import preprocessing\n",
        "\n",
        "le = preprocessing.LabelEncoder()\n",
        "\n",
        "from xgboost import XGBRegressor\n",
        "\n",
        "countries = X_xTrain.Country.unique()"
      ],
      "execution_count": null,
      "outputs": []
    },
    {
      "cell_type": "code",
      "metadata": {
        "id": "v9y9aD36FmIq"
      },
      "source": [
        "xout = pd.DataFrame({'ForecastId': [], 'ConfirmedCases': [], 'Fatalities': []})\n",
        "\n",
        "for country in countries:\n",
        "    states = X_xTrain.loc[X_xTrain.Country == country, :].State.unique()\n",
        "    #print(country, states)\n",
        "    # check whether string is nan or not\n",
        "    for state in states:\n",
        "        X_xTrain_CS = X_xTrain.loc[(X_xTrain.Country == country) & (X_xTrain.State == state), ['State', 'Country', 'Date', 'ConfirmedCases', 'Fatalities']]\n",
        "        \n",
        "        y1_xTrain_CS = X_xTrain_CS.loc[:, 'ConfirmedCases']\n",
        "        y2_xTrain_CS = X_xTrain_CS.loc[:, 'Fatalities']\n",
        "        \n",
        "        X_xTrain_CS = X_xTrain_CS.loc[:, ['State', 'Country', 'Date']]\n",
        "        \n",
        "        X_xTrain_CS.Country = le.fit_transform(X_xTrain_CS.Country)\n",
        "        X_xTrain_CS['State'] = le.fit_transform(X_xTrain_CS['State'])\n",
        "        \n",
        "        X_xTest_CS = X_xTest.loc[(X_xTest.Country == country) & (X_xTest.State == state), ['State', 'Country', 'Date', 'ForecastId']]\n",
        "        \n",
        "        X_xTest_CS_Id = X_xTest_CS.loc[:, 'ForecastId']\n",
        "        X_xTest_CS = X_xTest_CS.loc[:, ['State', 'Country', 'Date']]\n",
        "        \n",
        "        X_xTest_CS.Country = le.fit_transform(X_xTest_CS.Country)\n",
        "        X_xTest_CS['State'] = le.fit_transform(X_xTest_CS['State'])\n",
        "        \n",
        "        #models_C[country] = gridSearchCV(model, X_Train_CS, y1_Train_CS, param_grid, 10, 'neg_mean_squared_error')\n",
        "        #models_F[country] = gridSearchCV(model, X_Train_CS, y2_Train_CS, param_grid, 10, 'neg_mean_squared_error')\n",
        "        \n",
        "        xmodel1 = XGBRegressor(n_estimators=1000)\n",
        "        xmodel1.fit(X_xTrain_CS, y1_xTrain_CS)\n",
        "        y1_xpred = xmodel1.predict(X_xTest_CS)\n",
        "        \n",
        "        xmodel2 = XGBRegressor(n_estimators=1000)\n",
        "        xmodel2.fit(X_xTrain_CS, y2_xTrain_CS)\n",
        "        y2_xpred = xmodel2.predict(X_xTest_CS)\n",
        "        \n",
        "        xdata = pd.DataFrame({'ForecastId': X_xTest_CS_Id, 'ConfirmedCases': y1_xpred, 'Fatalities': y2_xpred})\n",
        "        xout = pd.concat([xout, xdata], axis=0)"
      ],
      "execution_count": null,
      "outputs": []
    },
    {
      "cell_type": "code",
      "metadata": {
        "id": "kqWDqr2VFtLr"
      },
      "source": [
        "xout.ForecastId = xout.ForecastId.astype('int')"
      ],
      "execution_count": null,
      "outputs": []
    },
    {
      "cell_type": "code",
      "metadata": {
        "id": "hzJ04W6nGNFH"
      },
      "source": [
        "xs=xout"
      ],
      "execution_count": null,
      "outputs": []
    },
    {
      "cell_type": "code",
      "metadata": {
        "id": "zgCYdqAFFupp",
        "colab": {
          "base_uri": "https://localhost:8080/",
          "height": 34
        },
        "outputId": "b5cb2046-cfdc-4434-d70d-1bbf344c4492"
      },
      "source": [
        "xout['ConfirmedCases'].max()"
      ],
      "execution_count": null,
      "outputs": [
        {
          "output_type": "execute_result",
          "data": {
            "text/plain": [
              "105791.8984375"
            ]
          },
          "metadata": {
            "tags": []
          },
          "execution_count": 77
        }
      ]
    },
    {
      "cell_type": "code",
      "metadata": {
        "id": "f8hslkzfGW6w",
        "colab": {
          "base_uri": "https://localhost:8080/",
          "height": 34
        },
        "outputId": "59b9b59c-3bc7-43e8-c3c2-4fb9f1a81dcc"
      },
      "source": [
        "train['ConfirmedCases'].max()"
      ],
      "execution_count": null,
      "outputs": [
        {
          "output_type": "execute_result",
          "data": {
            "text/plain": [
              "105792.0"
            ]
          },
          "metadata": {
            "tags": []
          },
          "execution_count": 78
        }
      ]
    },
    {
      "cell_type": "code",
      "metadata": {
        "id": "lYKOQvpTFu7I"
      },
      "source": [
        "testsets=pd.concat([x_test, xs], axis=1)"
      ],
      "execution_count": null,
      "outputs": []
    },
    {
      "cell_type": "code",
      "metadata": {
        "id": "6B18HLAuFw56",
        "colab": {
          "base_uri": "https://localhost:8080/",
          "height": 330
        },
        "outputId": "6380e060-949c-4bfc-ecfd-47fb959add47"
      },
      "source": [
        "#plotting global total confirmed cases and fatalities across the test set\n",
        "daily_analysis=testsets.groupby(['date']).sum()\n",
        "daily_analysis[['ConfirmedCases','Fatalities']].plot()\n",
        "\n",
        "plt.title('XGBRegressor Predictions over test set')\n",
        "plt.savefig('XGB')"
      ],
      "execution_count": null,
      "outputs": [
        {
          "output_type": "display_data",
          "data": {
            "image/png": "[encoded data removed]",
            "text/plain": [
              "<Figure size 432x288 with 1 Axes>"
            ]
          },
          "metadata": {
            "tags": [],
            "needs_background": "light"
          }
        }
      ]
    },
    {
      "cell_type": "markdown",
      "metadata": {
        "id": "MmnYVMw5GS5S"
      },
      "source": [
        "The XGBOOST model fits over every region of every country. We see that once the model reaches a prediction of confirmed cases which is the maximum value from the test set, we do not go above that value. \n",
        "As it turns out, tree models are incapable of extrapolating. Meaning their output predictions can never contain larger values than the max value from the data set it was trained on.\n",
        "\n",
        "While it is true that the tree models can fit the training data extremely well compared to linear fits, they are not useful for this problem as they will not extrapolate.\n",
        "\n"
      ]
    },
    {
      "cell_type": "code",
      "metadata": {
        "id": "s2zSEe_gH9BN"
      },
      "source": [
        "\n",
        "xout.ConfirmedCases=xout.ConfirmedCases.astype('int')\n",
        "xout.Fatalities=xout.Fatalities.astype('int')"
      ],
      "execution_count": null,
      "outputs": []
    },
    {
      "cell_type": "code",
      "metadata": {
        "id": "DbPu6RQZIAEU"
      },
      "source": [
        "xout.to_csv(\"submission100.csv\",index=False)"
      ],
      "execution_count": null,
      "outputs": []
    },
    {
      "cell_type": "markdown",
      "metadata": {
        "id": "NEbDX11DIKvB"
      },
      "source": [
        "This model got an rmsle=1.89624 score on the test set (from kaggle). This is just marginally above kaggles 'no new cases' threshold, which is as expected for reasons explained.\n"
      ]
    },
    {
      "cell_type": "markdown",
      "metadata": {
        "id": "0vvgVJO4IXu2"
      },
      "source": [
        "#Fitting linear models to just one country."
      ]
    },
    {
      "cell_type": "markdown",
      "metadata": {
        "id": "ctZIsSzIIiFT"
      },
      "source": [
        "first fitting for one country"
      ]
    },
    {
      "cell_type": "markdown",
      "metadata": {
        "id": "Fr7fO-RAwPJZ"
      },
      "source": [
        "Fitting italy data using linear regression"
      ]
    },
    {
      "cell_type": "code",
      "metadata": {
        "id": "GxXNbKpav3Z2",
        "colab": {
          "base_uri": "https://localhost:8080/",
          "height": 309
        },
        "outputId": "1e5df350-d30f-408d-da5d-bc0deaa8496b"
      },
      "source": [
        "train.head()"
      ],
      "execution_count": null,
      "outputs": [
        {
          "output_type": "execute_result",
          "data": {
            "text/html": [
              "<div>\n",
              "<style scoped>\n",
              "    .dataframe tbody tr th:only-of-type {\n",
              "        vertical-align: middle;\n",
              "    }\n",
              "\n",
              "    .dataframe tbody tr th {\n",
              "        vertical-align: top;\n",
              "    }\n",
              "\n",
              "    .dataframe thead th {\n",
              "        text-align: right;\n",
              "    }\n",
              "</style>\n",
              "<table border=\"1\" class=\"dataframe\">\n",
              "  <thead>\n",
              "    <tr style=\"text-align: right;\">\n",
              "      <th></th>\n",
              "      <th>Id</th>\n",
              "      <th>Province_State</th>\n",
              "      <th>Country_Region</th>\n",
              "      <th>ConfirmedCases</th>\n",
              "      <th>Fatalities</th>\n",
              "      <th>Countries</th>\n",
              "      <th>date</th>\n",
              "      <th>hour</th>\n",
              "      <th>dayofweek</th>\n",
              "      <th>quarter</th>\n",
              "      <th>month</th>\n",
              "      <th>year</th>\n",
              "      <th>dayofyear</th>\n",
              "      <th>dayofmonth</th>\n",
              "      <th>weekofyear</th>\n",
              "      <th>country</th>\n",
              "      <th>alpha2code</th>\n",
              "      <th>pop</th>\n",
              "      <th>density</th>\n",
              "      <th>medianage</th>\n",
              "      <th>urbanpop</th>\n",
              "      <th>tests</th>\n",
              "      <th>testpop</th>\n",
              "    </tr>\n",
              "  </thead>\n",
              "  <tbody>\n",
              "    <tr>\n",
              "      <th>0</th>\n",
              "      <td>1</td>\n",
              "      <td>NaN</td>\n",
              "      <td>Afghanistan</td>\n",
              "      <td>0.0</td>\n",
              "      <td>0.0</td>\n",
              "      <td>0</td>\n",
              "      <td>2020-01-22</td>\n",
              "      <td>0</td>\n",
              "      <td>2</td>\n",
              "      <td>1</td>\n",
              "      <td>1</td>\n",
              "      <td>2020</td>\n",
              "      <td>22</td>\n",
              "      <td>22</td>\n",
              "      <td>4</td>\n",
              "      <td>Afghanistan</td>\n",
              "      <td>AF</td>\n",
              "      <td>38,928,346</td>\n",
              "      <td>60.0</td>\n",
              "      <td>18.0</td>\n",
              "      <td>25.0</td>\n",
              "      <td>NaN</td>\n",
              "      <td>NaN</td>\n",
              "    </tr>\n",
              "    <tr>\n",
              "      <th>1</th>\n",
              "      <td>2</td>\n",
              "      <td>NaN</td>\n",
              "      <td>Afghanistan</td>\n",
              "      <td>0.0</td>\n",
              "      <td>0.0</td>\n",
              "      <td>0</td>\n",
              "      <td>2020-01-23</td>\n",
              "      <td>0</td>\n",
              "      <td>3</td>\n",
              "      <td>1</td>\n",
              "      <td>1</td>\n",
              "      <td>2020</td>\n",
              "      <td>23</td>\n",
              "      <td>23</td>\n",
              "      <td>4</td>\n",
              "      <td>Afghanistan</td>\n",
              "      <td>AF</td>\n",
              "      <td>38,928,346</td>\n",
              "      <td>60.0</td>\n",
              "      <td>18.0</td>\n",
              "      <td>25.0</td>\n",
              "      <td>NaN</td>\n",
              "      <td>NaN</td>\n",
              "    </tr>\n",
              "    <tr>\n",
              "      <th>2</th>\n",
              "      <td>3</td>\n",
              "      <td>NaN</td>\n",
              "      <td>Afghanistan</td>\n",
              "      <td>0.0</td>\n",
              "      <td>0.0</td>\n",
              "      <td>0</td>\n",
              "      <td>2020-01-24</td>\n",
              "      <td>0</td>\n",
              "      <td>4</td>\n",
              "      <td>1</td>\n",
              "      <td>1</td>\n",
              "      <td>2020</td>\n",
              "      <td>24</td>\n",
              "      <td>24</td>\n",
              "      <td>4</td>\n",
              "      <td>Afghanistan</td>\n",
              "      <td>AF</td>\n",
              "      <td>38,928,346</td>\n",
              "      <td>60.0</td>\n",
              "      <td>18.0</td>\n",
              "      <td>25.0</td>\n",
              "      <td>NaN</td>\n",
              "      <td>NaN</td>\n",
              "    </tr>\n",
              "    <tr>\n",
              "      <th>3</th>\n",
              "      <td>4</td>\n",
              "      <td>NaN</td>\n",
              "      <td>Afghanistan</td>\n",
              "      <td>0.0</td>\n",
              "      <td>0.0</td>\n",
              "      <td>0</td>\n",
              "      <td>2020-01-25</td>\n",
              "      <td>0</td>\n",
              "      <td>5</td>\n",
              "      <td>1</td>\n",
              "      <td>1</td>\n",
              "      <td>2020</td>\n",
              "      <td>25</td>\n",
              "      <td>25</td>\n",
              "      <td>4</td>\n",
              "      <td>Afghanistan</td>\n",
              "      <td>AF</td>\n",
              "      <td>38,928,346</td>\n",
              "      <td>60.0</td>\n",
              "      <td>18.0</td>\n",
              "      <td>25.0</td>\n",
              "      <td>NaN</td>\n",
              "      <td>NaN</td>\n",
              "    </tr>\n",
              "    <tr>\n",
              "      <th>4</th>\n",
              "      <td>5</td>\n",
              "      <td>NaN</td>\n",
              "      <td>Afghanistan</td>\n",
              "      <td>0.0</td>\n",
              "      <td>0.0</td>\n",
              "      <td>0</td>\n",
              "      <td>2020-01-26</td>\n",
              "      <td>0</td>\n",
              "      <td>6</td>\n",
              "      <td>1</td>\n",
              "      <td>1</td>\n",
              "      <td>2020</td>\n",
              "      <td>26</td>\n",
              "      <td>26</td>\n",
              "      <td>4</td>\n",
              "      <td>Afghanistan</td>\n",
              "      <td>AF</td>\n",
              "      <td>38,928,346</td>\n",
              "      <td>60.0</td>\n",
              "      <td>18.0</td>\n",
              "      <td>25.0</td>\n",
              "      <td>NaN</td>\n",
              "      <td>NaN</td>\n",
              "    </tr>\n",
              "  </tbody>\n",
              "</table>\n",
              "</div>"
            ],
            "text/plain": [
              "   Id Province_State Country_Region  ...  urbanpop  tests  testpop\n",
              "0   1            NaN    Afghanistan  ...      25.0    NaN      NaN\n",
              "1   2            NaN    Afghanistan  ...      25.0    NaN      NaN\n",
              "2   3            NaN    Afghanistan  ...      25.0    NaN      NaN\n",
              "3   4            NaN    Afghanistan  ...      25.0    NaN      NaN\n",
              "4   5            NaN    Afghanistan  ...      25.0    NaN      NaN\n",
              "\n",
              "[5 rows x 23 columns]"
            ]
          },
          "metadata": {
            "tags": []
          },
          "execution_count": 81
        }
      ]
    },
    {
      "cell_type": "code",
      "metadata": {
        "id": "RUbtjr0LJc4A"
      },
      "source": [
        "global_data  =trainSet\n",
        "country_data = global_data[global_data['Country_Region']=='Italy']\n",
        "italydat=country_data"
      ],
      "execution_count": null,
      "outputs": []
    },
    {
      "cell_type": "code",
      "metadata": {
        "id": "36176guNJi5S"
      },
      "source": [
        "italydat_x=italydat[['date','Id']]\n",
        "italydat_y=italydat[['ConfirmedCases','Fatalities']]"
      ],
      "execution_count": null,
      "outputs": []
    },
    {
      "cell_type": "code",
      "metadata": {
        "id": "AdJmHox7J-B1"
      },
      "source": [
        "y_italy1=italydat_y['ConfirmedCases']"
      ],
      "execution_count": null,
      "outputs": []
    },
    {
      "cell_type": "code",
      "metadata": {
        "id": "xowlCLUHJ-RE"
      },
      "source": [
        "x = range(len(y_italy1.index))\n",
        "x=np.array(x)[:,None]\n",
        "y_it = y_italy1"
      ],
      "execution_count": null,
      "outputs": []
    },
    {
      "cell_type": "code",
      "metadata": {
        "id": "3V6AlTwyJ_vr"
      },
      "source": [
        "import matplotlib.pyplot as plt"
      ],
      "execution_count": null,
      "outputs": []
    },
    {
      "cell_type": "code",
      "metadata": {
        "id": "f7TR6Gu6KBYt",
        "colab": {
          "base_uri": "https://localhost:8080/",
          "height": 282
        },
        "outputId": "ddd84eba-53b0-47ea-d055-5b8dcf647bc1"
      },
      "source": [
        "plt.figure()\n",
        "\n",
        "plt.plot(x,y_it,'b')\n",
        "\n",
        "plt.show"
      ],
      "execution_count": null,
      "outputs": [
        {
          "output_type": "execute_result",
          "data": {
            "text/plain": [
              "<function matplotlib.pyplot.show>"
            ]
          },
          "metadata": {
            "tags": []
          },
          "execution_count": 87
        },
        {
          "output_type": "display_data",
          "data": {
            "image/png": "[encoded data removed]",
            "text/plain": [
              "<Figure size 432x288 with 1 Axes>"
            ]
          },
          "metadata": {
            "tags": [],
            "needs_background": "light"
          }
        }
      ]
    },
    {
      "cell_type": "code",
      "metadata": {
        "id": "kXDe1165KCUM",
        "colab": {
          "base_uri": "https://localhost:8080/",
          "height": 34
        },
        "outputId": "8f6a1dd9-161a-452a-bc41-8dc01ae1ad70"
      },
      "source": [
        "x.shape"
      ],
      "execution_count": null,
      "outputs": [
        {
          "output_type": "execute_result",
          "data": {
            "text/plain": [
              "(70, 1)"
            ]
          },
          "metadata": {
            "tags": []
          },
          "execution_count": 88
        }
      ]
    },
    {
      "cell_type": "markdown",
      "metadata": {
        "id": "0nhumf_0wTyH"
      },
      "source": [
        "We save the x matrix, along with x^2, x^3,x^4 so that Linear Regression can fit polynomial coefficients."
      ]
    },
    {
      "cell_type": "code",
      "metadata": {
        "id": "16cXVjw9KEnO"
      },
      "source": [
        "x_new=np.hstack([x,x**2,x**3,x**4])"
      ],
      "execution_count": null,
      "outputs": []
    },
    {
      "cell_type": "code",
      "metadata": {
        "id": "dxEMmRrxKHq9",
        "colab": {
          "base_uri": "https://localhost:8080/",
          "height": 34
        },
        "outputId": "6c183817-43c6-4ffd-bca3-e676463578e7"
      },
      "source": [
        "x_new.shape"
      ],
      "execution_count": null,
      "outputs": [
        {
          "output_type": "execute_result",
          "data": {
            "text/plain": [
              "(70, 4)"
            ]
          },
          "metadata": {
            "tags": []
          },
          "execution_count": 90
        }
      ]
    },
    {
      "cell_type": "code",
      "metadata": {
        "id": "Uf9D07TEKH-n",
        "colab": {
          "base_uri": "https://localhost:8080/",
          "height": 34
        },
        "outputId": "f25db170-1b02-4a46-96d6-d6b27835f8a7"
      },
      "source": [
        "from sklearn.linear_model import LinearRegression\n",
        "model=LinearRegression()\n",
        "model.fit(x_new,y_it)\n",
        "model.coef_\n"
      ],
      "execution_count": null,
      "outputs": [
        {
          "output_type": "execute_result",
          "data": {
            "text/plain": [
              "array([ 6.07247773e+02, -3.32304765e+01,  2.42476198e-01,  6.72569501e-03])"
            ]
          },
          "metadata": {
            "tags": []
          },
          "execution_count": 91
        }
      ]
    },
    {
      "cell_type": "code",
      "metadata": {
        "id": "eCOQ0YtzKO9w"
      },
      "source": [
        "ypred=model.predict(x_new)"
      ],
      "execution_count": null,
      "outputs": []
    },
    {
      "cell_type": "code",
      "metadata": {
        "id": "UQwYgcGKKQj5",
        "colab": {
          "base_uri": "https://localhost:8080/",
          "height": 282
        },
        "outputId": "8239662d-5588-4c1e-9b35-25db4bc9362a"
      },
      "source": [
        "plt.figure()\n",
        "\n",
        "plt.plot(x,y_it,'b')\n",
        "plt.plot(x_new[:,0],ypred,'r')\n",
        "plt.show"
      ],
      "execution_count": null,
      "outputs": [
        {
          "output_type": "execute_result",
          "data": {
            "text/plain": [
              "<function matplotlib.pyplot.show>"
            ]
          },
          "metadata": {
            "tags": []
          },
          "execution_count": 93
        },
        {
          "output_type": "display_data",
          "data": {
            "image/png": "[encoded data removed]",
            "text/plain": [
              "<Figure size 432x288 with 1 Axes>"
            ]
          },
          "metadata": {
            "tags": [],
            "needs_background": "light"
          }
        }
      ]
    },
    {
      "cell_type": "code",
      "metadata": {
        "id": "vk-7tQjLwfQu"
      },
      "source": [
        "#This method is working great, will now run it across every province as was done for xgboost."
      ],
      "execution_count": null,
      "outputs": []
    },
    {
      "cell_type": "markdown",
      "metadata": {
        "id": "35NHRvG7wuN1"
      },
      "source": [
        "#Building the Final Model"
      ]
    },
    {
      "cell_type": "markdown",
      "metadata": {
        "id": "ImzowuOZ0YJu"
      },
      "source": [
        "Running the same code for the XG boost model that fit over every country, but now with the linear regression method that was just shown."
      ]
    },
    {
      "cell_type": "code",
      "metadata": {
        "id": "im96yTYwwwqt"
      },
      "source": [
        "\n",
        "xtrain = pd.read_csv('train.csv')\n",
        "xtest = pd.read_csv('test.csv')\n",
        "xsubmission = pd.read_csv('submission.csv')"
      ],
      "execution_count": null,
      "outputs": []
    },
    {
      "cell_type": "code",
      "metadata": {
        "id": "mq1a4YtDw0Gb",
        "colab": {
          "base_uri": "https://localhost:8080/",
          "height": 425
        },
        "outputId": "ac07ec9c-66c2-45b3-e277-fade35573070"
      },
      "source": [
        "xtrain.rename(columns={'Country_Region':'Country'}, inplace=True)\n",
        "xtest.rename(columns={'Country_Region':'Country'}, inplace=True)\n",
        "\n",
        "xtrain.rename(columns={'Province_State':'State'}, inplace=True)\n",
        "xtest.rename(columns={'Province_State':'State'}, inplace=True)\n",
        "\n",
        "xtrain['Date'] = pd.to_datetime(xtrain['Date'], infer_datetime_format=True)\n",
        "xtest['Date'] = pd.to_datetime(xtest['Date'], infer_datetime_format=True)\n",
        "\n",
        "xtrain.info()\n",
        "xtest.info()\n",
        "\n",
        "y1_xTrain = xtrain.iloc[:, -2]\n",
        "y1_xTrain.head()\n",
        "y2_xTrain = xtrain.iloc[:, -1]\n",
        "y2_xTrain.head()\n",
        "\n",
        "EMPTY_VAL = \"EMPTY_VAL\"\n",
        "\n",
        "def fillState(state, country):\n",
        "    if state == EMPTY_VAL: return country\n",
        "    return state"
      ],
      "execution_count": null,
      "outputs": [
        {
          "output_type": "stream",
          "text": [
            "<class 'pandas.core.frame.DataFrame'>\n",
            "RangeIndex: 20580 entries, 0 to 20579\n",
            "Data columns (total 6 columns):\n",
            " #   Column          Non-Null Count  Dtype         \n",
            "---  ------          --------------  -----         \n",
            " 0   Id              20580 non-null  int64         \n",
            " 1   State           8750 non-null   object        \n",
            " 2   Country         20580 non-null  object        \n",
            " 3   Date            20580 non-null  datetime64[ns]\n",
            " 4   ConfirmedCases  20580 non-null  float64       \n",
            " 5   Fatalities      20580 non-null  float64       \n",
            "dtypes: datetime64[ns](1), float64(2), int64(1), object(2)\n",
            "memory usage: 964.8+ KB\n",
            "<class 'pandas.core.frame.DataFrame'>\n",
            "RangeIndex: 12642 entries, 0 to 12641\n",
            "Data columns (total 4 columns):\n",
            " #   Column      Non-Null Count  Dtype         \n",
            "---  ------      --------------  -----         \n",
            " 0   ForecastId  12642 non-null  int64         \n",
            " 1   State       5375 non-null   object        \n",
            " 2   Country     12642 non-null  object        \n",
            " 3   Date        12642 non-null  datetime64[ns]\n",
            "dtypes: datetime64[ns](1), int64(1), object(2)\n",
            "memory usage: 395.2+ KB\n"
          ],
          "name": "stdout"
        }
      ]
    },
    {
      "cell_type": "code",
      "metadata": {
        "id": "uoHq1EOqwjJb",
        "colab": {
          "base_uri": "https://localhost:8080/",
          "height": 204
        },
        "outputId": "6bade169-671e-4e71-f111-4a32b19e7548"
      },
      "source": [
        "X_xTrain = xtrain.copy()\n",
        "\n",
        "X_xTrain['State'].fillna(EMPTY_VAL, inplace=True)\n",
        "X_xTrain['State'] = X_xTrain.loc[:, ['State', 'Country']].apply(lambda x : fillState(x['State'], x['Country']), axis=1)\n",
        "\n",
        "X_xTrain.loc[:, 'Date'] = X_xTrain.Date.dt.dayofyear\n",
        "X_xTrain[\"Date\"]  = X_xTrain[\"Date\"].astype(int)\n",
        "\n",
        "X_xTrain.head()\n",
        "\n",
        "#X_Test = df_test.loc[:, ['State', 'Country', 'Date']]\n",
        "X_xTest = xtest.copy()\n",
        "\n",
        "X_xTest['State'].fillna(EMPTY_VAL, inplace=True)\n",
        "X_xTest['State'] = X_xTest.loc[:, ['State', 'Country']].apply(lambda x : fillState(x['State'], x['Country']), axis=1)\n",
        "\n",
        "X_xTest.loc[:, 'Date'] = X_xTest.Date.dt.dayofyear\n",
        "X_xTest[\"Date\"]  = X_xTest[\"Date\"].astype(int)\n",
        "\n",
        "X_xTest.head()"
      ],
      "execution_count": null,
      "outputs": [
        {
          "output_type": "execute_result",
          "data": {
            "text/html": [
              "<div>\n",
              "<style scoped>\n",
              "    .dataframe tbody tr th:only-of-type {\n",
              "        vertical-align: middle;\n",
              "    }\n",
              "\n",
              "    .dataframe tbody tr th {\n",
              "        vertical-align: top;\n",
              "    }\n",
              "\n",
              "    .dataframe thead th {\n",
              "        text-align: right;\n",
              "    }\n",
              "</style>\n",
              "<table border=\"1\" class=\"dataframe\">\n",
              "  <thead>\n",
              "    <tr style=\"text-align: right;\">\n",
              "      <th></th>\n",
              "      <th>ForecastId</th>\n",
              "      <th>State</th>\n",
              "      <th>Country</th>\n",
              "      <th>Date</th>\n",
              "    </tr>\n",
              "  </thead>\n",
              "  <tbody>\n",
              "    <tr>\n",
              "      <th>0</th>\n",
              "      <td>1</td>\n",
              "      <td>Afghanistan</td>\n",
              "      <td>Afghanistan</td>\n",
              "      <td>79</td>\n",
              "    </tr>\n",
              "    <tr>\n",
              "      <th>1</th>\n",
              "      <td>2</td>\n",
              "      <td>Afghanistan</td>\n",
              "      <td>Afghanistan</td>\n",
              "      <td>80</td>\n",
              "    </tr>\n",
              "    <tr>\n",
              "      <th>2</th>\n",
              "      <td>3</td>\n",
              "      <td>Afghanistan</td>\n",
              "      <td>Afghanistan</td>\n",
              "      <td>81</td>\n",
              "    </tr>\n",
              "    <tr>\n",
              "      <th>3</th>\n",
              "      <td>4</td>\n",
              "      <td>Afghanistan</td>\n",
              "      <td>Afghanistan</td>\n",
              "      <td>82</td>\n",
              "    </tr>\n",
              "    <tr>\n",
              "      <th>4</th>\n",
              "      <td>5</td>\n",
              "      <td>Afghanistan</td>\n",
              "      <td>Afghanistan</td>\n",
              "      <td>83</td>\n",
              "    </tr>\n",
              "  </tbody>\n",
              "</table>\n",
              "</div>"
            ],
            "text/plain": [
              "   ForecastId        State      Country  Date\n",
              "0           1  Afghanistan  Afghanistan    79\n",
              "1           2  Afghanistan  Afghanistan    80\n",
              "2           3  Afghanistan  Afghanistan    81\n",
              "3           4  Afghanistan  Afghanistan    82\n",
              "4           5  Afghanistan  Afghanistan    83"
            ]
          },
          "metadata": {
            "tags": []
          },
          "execution_count": 97
        }
      ]
    },
    {
      "cell_type": "code",
      "metadata": {
        "id": "DsOX5y76w4Pn"
      },
      "source": [
        "from warnings import filterwarnings\n",
        "filterwarnings('ignore')\n",
        "\n",
        "from sklearn import preprocessing\n",
        "\n",
        "le = preprocessing.LabelEncoder()\n",
        "\n",
        "from xgboost import XGBRegressor\n",
        "\n",
        "countries = X_xTrain.Country.unique()\n",
        "import numpy as np\n",
        "from sklearn.linear_model import LinearRegression"
      ],
      "execution_count": null,
      "outputs": []
    },
    {
      "cell_type": "code",
      "metadata": {
        "id": "28DVGaOmw4l4"
      },
      "source": [
        "xout = pd.DataFrame({'ForecastId': [], 'ConfirmedCases': [], 'Fatalities': []})\n",
        "\n",
        "for country in countries:\n",
        "    states = X_xTrain.loc[X_xTrain.Country == country, :].State.unique()\n",
        "    #print(country, states)\n",
        "    # check whether string is nan or not\n",
        "    for state in states:\n",
        "        X_xTrain_CS = X_xTrain.loc[(X_xTrain.Country == country) & (X_xTrain.State == state), ['State', 'Country', 'Date', 'ConfirmedCases', 'Fatalities']]\n",
        "        \n",
        "        y1_xTrain_CS = X_xTrain_CS.loc[:, 'ConfirmedCases']\n",
        "        y2_xTrain_CS = X_xTrain_CS.loc[:, 'Fatalities']\n",
        "        \n",
        "        X_xTrain_CS = X_xTrain_CS.loc[:, ['State', 'Country', 'Date']]\n",
        "        \n",
        "        X_xTrain_CS.Country = le.fit_transform(X_xTrain_CS.Country)\n",
        "        X_xTrain_CS['State'] = le.fit_transform(X_xTrain_CS['State'])\n",
        "        \n",
        "\n",
        "        X_xTest_CS = X_xTest.loc[(X_xTest.Country == country) & (X_xTest.State == state), ['State', 'Country', 'Date', 'ForecastId']]\n",
        "        \n",
        "\n",
        "\n",
        "        X_xTest_CS_Id = X_xTest_CS.loc[:, 'ForecastId']\n",
        "        X_xTest_CS = X_xTest_CS.loc[:, ['State', 'Country', 'Date']]\n",
        "        \n",
        "        X_xTest_CS.Country = le.fit_transform(X_xTest_CS.Country)\n",
        "        X_xTest_CS['State'] = le.fit_transform(X_xTest_CS['State'])\n",
        "        \n",
        "        #models_C[country] = gridSearchCV(model, X_Train_CS, y1_Train_CS, param_grid, 10, 'neg_mean_squared_error')\n",
        "        #models_F[country] = gridSearchCV(model, X_Train_CS, y2_Train_CS, param_grid, 10, 'neg_mean_squared_error')\n",
        "        x2new=np.hstack([X_xTrain_CS,X_xTrain_CS**2,X_xTrain_CS**3,X_xTrain_CS**4])\n",
        "        ynew=np.hstack([X_xTest_CS,X_xTest_CS**2,X_xTest_CS**3,X_xTest_CS**4])\n",
        "\n",
        "\n",
        "        xmodel1=LinearRegression()\n",
        "        xmodel1.fit(x2new,y1_xTrain_CS)\n",
        "        y1_xpred=xmodel1.predict(ynew)\n",
        "        \n",
        "        x2new=np.hstack([X_xTrain_CS,X_xTrain_CS**2,X_xTrain_CS**3,X_xTrain_CS**4])\n",
        "        xmodel2=LinearRegression()\n",
        "        xmodel2.fit(x2new,y2_xTrain_CS)\n",
        "        y2_xpred=xmodel2.predict(ynew)\n",
        "\n",
        "        \n",
        "        xdata = pd.DataFrame({'ForecastId': X_xTest_CS_Id, 'ConfirmedCases': y1_xpred, 'Fatalities': y2_xpred})\n",
        "        xout = pd.concat([xout, xdata], axis=0)"
      ],
      "execution_count": null,
      "outputs": []
    },
    {
      "cell_type": "code",
      "metadata": {
        "id": "UrgzK44ww6Ys",
        "colab": {
          "base_uri": "https://localhost:8080/",
          "height": 419
        },
        "outputId": "dc0e926e-e6dd-4e23-afbb-7da1d440b745"
      },
      "source": [
        "xout"
      ],
      "execution_count": null,
      "outputs": [
        {
          "output_type": "execute_result",
          "data": {
            "text/html": [
              "<div>\n",
              "<style scoped>\n",
              "    .dataframe tbody tr th:only-of-type {\n",
              "        vertical-align: middle;\n",
              "    }\n",
              "\n",
              "    .dataframe tbody tr th {\n",
              "        vertical-align: top;\n",
              "    }\n",
              "\n",
              "    .dataframe thead th {\n",
              "        text-align: right;\n",
              "    }\n",
              "</style>\n",
              "<table border=\"1\" class=\"dataframe\">\n",
              "  <thead>\n",
              "    <tr style=\"text-align: right;\">\n",
              "      <th></th>\n",
              "      <th>ForecastId</th>\n",
              "      <th>ConfirmedCases</th>\n",
              "      <th>Fatalities</th>\n",
              "    </tr>\n",
              "  </thead>\n",
              "  <tbody>\n",
              "    <tr>\n",
              "      <th>0</th>\n",
              "      <td>1.0</td>\n",
              "      <td>28.635193</td>\n",
              "      <td>0.516439</td>\n",
              "    </tr>\n",
              "    <tr>\n",
              "      <th>1</th>\n",
              "      <td>2.0</td>\n",
              "      <td>34.813857</td>\n",
              "      <td>0.697919</td>\n",
              "    </tr>\n",
              "    <tr>\n",
              "      <th>2</th>\n",
              "      <td>3.0</td>\n",
              "      <td>41.787123</td>\n",
              "      <td>0.905777</td>\n",
              "    </tr>\n",
              "    <tr>\n",
              "      <th>3</th>\n",
              "      <td>4.0</td>\n",
              "      <td>49.611657</td>\n",
              "      <td>1.141978</td>\n",
              "    </tr>\n",
              "    <tr>\n",
              "      <th>4</th>\n",
              "      <td>5.0</td>\n",
              "      <td>58.345887</td>\n",
              "      <td>1.408546</td>\n",
              "    </tr>\n",
              "    <tr>\n",
              "      <th>...</th>\n",
              "      <td>...</td>\n",
              "      <td>...</td>\n",
              "      <td>...</td>\n",
              "    </tr>\n",
              "    <tr>\n",
              "      <th>12637</th>\n",
              "      <td>12638.0</td>\n",
              "      <td>74.240164</td>\n",
              "      <td>10.552996</td>\n",
              "    </tr>\n",
              "    <tr>\n",
              "      <th>12638</th>\n",
              "      <td>12639.0</td>\n",
              "      <td>79.024043</td>\n",
              "      <td>11.206736</td>\n",
              "    </tr>\n",
              "    <tr>\n",
              "      <th>12639</th>\n",
              "      <td>12640.0</td>\n",
              "      <td>84.029000</td>\n",
              "      <td>11.889559</td>\n",
              "    </tr>\n",
              "    <tr>\n",
              "      <th>12640</th>\n",
              "      <td>12641.0</td>\n",
              "      <td>89.261573</td>\n",
              "      <td>12.602294</td>\n",
              "    </tr>\n",
              "    <tr>\n",
              "      <th>12641</th>\n",
              "      <td>12642.0</td>\n",
              "      <td>94.728393</td>\n",
              "      <td>13.345784</td>\n",
              "    </tr>\n",
              "  </tbody>\n",
              "</table>\n",
              "<p>12642 rows × 3 columns</p>\n",
              "</div>"
            ],
            "text/plain": [
              "       ForecastId  ConfirmedCases  Fatalities\n",
              "0             1.0       28.635193    0.516439\n",
              "1             2.0       34.813857    0.697919\n",
              "2             3.0       41.787123    0.905777\n",
              "3             4.0       49.611657    1.141978\n",
              "4             5.0       58.345887    1.408546\n",
              "...           ...             ...         ...\n",
              "12637     12638.0       74.240164   10.552996\n",
              "12638     12639.0       79.024043   11.206736\n",
              "12639     12640.0       84.029000   11.889559\n",
              "12640     12641.0       89.261573   12.602294\n",
              "12641     12642.0       94.728393   13.345784\n",
              "\n",
              "[12642 rows x 3 columns]"
            ]
          },
          "metadata": {
            "tags": []
          },
          "execution_count": 100
        }
      ]
    },
    {
      "cell_type": "code",
      "metadata": {
        "id": "5whk6CjRw8lN"
      },
      "source": [
        "xout.ForecastId = xout.ForecastId.astype('int')\n",
        "xout.ConfirmedCases=xout.ConfirmedCases.astype('int')\n",
        "xout.Fatalities=xout.Fatalities.astype('int')"
      ],
      "execution_count": null,
      "outputs": []
    },
    {
      "cell_type": "code",
      "metadata": {
        "id": "KJoHoQRayDeS"
      },
      "source": [
        "xtout=xout.copy()"
      ],
      "execution_count": null,
      "outputs": []
    },
    {
      "cell_type": "code",
      "metadata": {
        "id": "-k5tLVYbyGLA"
      },
      "source": [
        "xtout[xtout < 0] = 0"
      ],
      "execution_count": null,
      "outputs": []
    },
    {
      "cell_type": "markdown",
      "metadata": {
        "id": "_IXf-N0C0k6g"
      },
      "source": [
        "#Results from the Final Model"
      ]
    },
    {
      "cell_type": "code",
      "metadata": {
        "id": "n2Br_ALDyLe-",
        "colab": {
          "base_uri": "https://localhost:8080/",
          "height": 419
        },
        "outputId": "7badcc5d-b2ef-421c-8e98-7510de76a5ca"
      },
      "source": [
        "xtout"
      ],
      "execution_count": null,
      "outputs": [
        {
          "output_type": "execute_result",
          "data": {
            "text/html": [
              "<div>\n",
              "<style scoped>\n",
              "    .dataframe tbody tr th:only-of-type {\n",
              "        vertical-align: middle;\n",
              "    }\n",
              "\n",
              "    .dataframe tbody tr th {\n",
              "        vertical-align: top;\n",
              "    }\n",
              "\n",
              "    .dataframe thead th {\n",
              "        text-align: right;\n",
              "    }\n",
              "</style>\n",
              "<table border=\"1\" class=\"dataframe\">\n",
              "  <thead>\n",
              "    <tr style=\"text-align: right;\">\n",
              "      <th></th>\n",
              "      <th>ForecastId</th>\n",
              "      <th>ConfirmedCases</th>\n",
              "      <th>Fatalities</th>\n",
              "    </tr>\n",
              "  </thead>\n",
              "  <tbody>\n",
              "    <tr>\n",
              "      <th>0</th>\n",
              "      <td>1</td>\n",
              "      <td>28</td>\n",
              "      <td>0</td>\n",
              "    </tr>\n",
              "    <tr>\n",
              "      <th>1</th>\n",
              "      <td>2</td>\n",
              "      <td>34</td>\n",
              "      <td>0</td>\n",
              "    </tr>\n",
              "    <tr>\n",
              "      <th>2</th>\n",
              "      <td>3</td>\n",
              "      <td>41</td>\n",
              "      <td>0</td>\n",
              "    </tr>\n",
              "    <tr>\n",
              "      <th>3</th>\n",
              "      <td>4</td>\n",
              "      <td>49</td>\n",
              "      <td>1</td>\n",
              "    </tr>\n",
              "    <tr>\n",
              "      <th>4</th>\n",
              "      <td>5</td>\n",
              "      <td>58</td>\n",
              "      <td>1</td>\n",
              "    </tr>\n",
              "    <tr>\n",
              "      <th>...</th>\n",
              "      <td>...</td>\n",
              "      <td>...</td>\n",
              "      <td>...</td>\n",
              "    </tr>\n",
              "    <tr>\n",
              "      <th>12637</th>\n",
              "      <td>12638</td>\n",
              "      <td>74</td>\n",
              "      <td>10</td>\n",
              "    </tr>\n",
              "    <tr>\n",
              "      <th>12638</th>\n",
              "      <td>12639</td>\n",
              "      <td>79</td>\n",
              "      <td>11</td>\n",
              "    </tr>\n",
              "    <tr>\n",
              "      <th>12639</th>\n",
              "      <td>12640</td>\n",
              "      <td>84</td>\n",
              "      <td>11</td>\n",
              "    </tr>\n",
              "    <tr>\n",
              "      <th>12640</th>\n",
              "      <td>12641</td>\n",
              "      <td>89</td>\n",
              "      <td>12</td>\n",
              "    </tr>\n",
              "    <tr>\n",
              "      <th>12641</th>\n",
              "      <td>12642</td>\n",
              "      <td>94</td>\n",
              "      <td>13</td>\n",
              "    </tr>\n",
              "  </tbody>\n",
              "</table>\n",
              "<p>12642 rows × 3 columns</p>\n",
              "</div>"
            ],
            "text/plain": [
              "       ForecastId  ConfirmedCases  Fatalities\n",
              "0               1              28           0\n",
              "1               2              34           0\n",
              "2               3              41           0\n",
              "3               4              49           1\n",
              "4               5              58           1\n",
              "...           ...             ...         ...\n",
              "12637       12638              74          10\n",
              "12638       12639              79          11\n",
              "12639       12640              84          11\n",
              "12640       12641              89          12\n",
              "12641       12642              94          13\n",
              "\n",
              "[12642 rows x 3 columns]"
            ]
          },
          "metadata": {
            "tags": []
          },
          "execution_count": 104
        }
      ]
    },
    {
      "cell_type": "code",
      "metadata": {
        "id": "TkU0N2DFyPju"
      },
      "source": [
        "xtout.to_csv(\"submission116.csv\",index=False)"
      ],
      "execution_count": null,
      "outputs": []
    },
    {
      "cell_type": "markdown",
      "metadata": {
        "id": "D1xHlb7o0px2"
      },
      "source": [
        "This model recieved a great score of rmsle=0.25852 on kaggle!! \n",
        "This is by far the best score we have received during modelling, of course far out performing the XGBoost model that was incapable of extrapolation."
      ]
    },
    {
      "cell_type": "code",
      "metadata": {
        "id": "zenWIQysxCj5",
        "colab": {
          "base_uri": "https://localhost:8080/",
          "height": 34
        },
        "outputId": "54451407-77a2-4b57-d366-8fe1a2745e1f"
      },
      "source": [
        "xtout['ConfirmedCases'].max()"
      ],
      "execution_count": null,
      "outputs": [
        {
          "output_type": "execute_result",
          "data": {
            "text/plain": [
              "962662"
            ]
          },
          "metadata": {
            "tags": []
          },
          "execution_count": 106
        }
      ]
    },
    {
      "cell_type": "code",
      "metadata": {
        "id": "09P6S6e_xvMu",
        "colab": {
          "base_uri": "https://localhost:8080/",
          "height": 34
        },
        "outputId": "932cf83b-f14b-42a4-fe34-06c934ccebb7"
      },
      "source": [
        "xtout['ConfirmedCases'].min()"
      ],
      "execution_count": null,
      "outputs": [
        {
          "output_type": "execute_result",
          "data": {
            "text/plain": [
              "0"
            ]
          },
          "metadata": {
            "tags": []
          },
          "execution_count": 107
        }
      ]
    },
    {
      "cell_type": "code",
      "metadata": {
        "id": "JBfP6hdPxDcF"
      },
      "source": [
        "testsets=pd.concat([xtest, xtout], axis=1)"
      ],
      "execution_count": null,
      "outputs": []
    },
    {
      "cell_type": "markdown",
      "metadata": {
        "id": "jDDjReNc1AU4"
      },
      "source": [
        "Now Looking at the predictions that the model has made"
      ]
    },
    {
      "cell_type": "code",
      "metadata": {
        "id": "qxJmS8faxEeN",
        "colab": {
          "base_uri": "https://localhost:8080/",
          "height": 330
        },
        "outputId": "1ddda3b9-06ac-462e-b48f-8695e888de73"
      },
      "source": [
        "#World wide total cases\n",
        "daily_analysis=testsets.groupby(['Date']).sum()\n",
        "daily_analysis[['ConfirmedCases','Fatalities']].plot()\n",
        "plt.title('World Wide total Linear Regression Predictions ')\n",
        "plt.savefig('LINREG')"
      ],
      "execution_count": null,
      "outputs": [
        {
          "output_type": "display_data",
          "data": {
            "image/png": "[encoded data removed]",
            "text/plain": [
              "<Figure size 432x288 with 1 Axes>"
            ]
          },
          "metadata": {
            "tags": [],
            "needs_background": "light"
          }
        }
      ]
    },
    {
      "cell_type": "code",
      "metadata": {
        "id": "qHdP_EkZxFfN",
        "colab": {
          "base_uri": "https://localhost:8080/",
          "height": 331
        },
        "outputId": "309027f5-d2ac-4813-a27b-33b9eae8c2ed"
      },
      "source": [
        "#prediction of the progression of COVID in italy\n",
        "italy_dat = testsets[testsets['Country']=='Italy']\n",
        "italy_dat=italy_dat.groupby(['Date']).sum()\n",
        "italy_dat[['ConfirmedCases','Fatalities']].plot()"
      ],
      "execution_count": null,
      "outputs": [
        {
          "output_type": "execute_result",
          "data": {
            "text/plain": [
              "<matplotlib.axes._subplots.AxesSubplot at 0x7fab08b8c208>"
            ]
          },
          "metadata": {
            "tags": []
          },
          "execution_count": 110
        },
        {
          "output_type": "display_data",
          "data": {
            "image/png": "[encoded data removed]",
            "text/plain": [
              "<Figure size 432x288 with 1 Axes>"
            ]
          },
          "metadata": {
            "tags": [],
            "needs_background": "light"
          }
        }
      ]
    },
    {
      "cell_type": "code",
      "metadata": {
        "id": "quKxVm6Z0Fq_",
        "colab": {
          "base_uri": "https://localhost:8080/",
          "height": 342
        },
        "outputId": "850e434f-7144-4817-a515-205ca3b16327"
      },
      "source": [
        "#prediction of the progression of COVID in US\n",
        "US_dat = testsets[testsets['Country']=='US']\n",
        "\n",
        "US=US_dat.groupby(['Date']).sum()\n",
        "US[['ConfirmedCases','Fatalities']].plot()"
      ],
      "execution_count": null,
      "outputs": [
        {
          "output_type": "execute_result",
          "data": {
            "text/plain": [
              "<matplotlib.axes._subplots.AxesSubplot at 0x7fab151f2f98>"
            ]
          },
          "metadata": {
            "tags": []
          },
          "execution_count": 111
        },
        {
          "output_type": "display_data",
          "data": {
            "image/png": "[encoded data removed]",
            "text/plain": [
              "<Figure size 432x288 with 1 Axes>"
            ]
          },
          "metadata": {
            "tags": [],
            "needs_background": "light"
          }
        }
      ]
    },
    {
      "cell_type": "code",
      "metadata": {
        "id": "aPx6dC0v0I37",
        "colab": {
          "base_uri": "https://localhost:8080/",
          "height": 331
        },
        "outputId": "679b92c5-31fe-480a-b053-b5de4a5fec8e"
      },
      "source": [
        "#prediction of the progression of COVID in China\n",
        "China_dat = testsets[testsets['Country']=='China']\n",
        "\n",
        "China=China_dat.groupby(['Date']).sum()\n",
        "China[['ConfirmedCases','Fatalities']].plot()"
      ],
      "execution_count": null,
      "outputs": [
        {
          "output_type": "execute_result",
          "data": {
            "text/plain": [
              "<matplotlib.axes._subplots.AxesSubplot at 0x7fab152d68d0>"
            ]
          },
          "metadata": {
            "tags": []
          },
          "execution_count": 112
        },
        {
          "output_type": "display_data",
          "data": {
            "image/png": "[encoded data removed]",
            "text/plain": [
              "<Figure size 432x288 with 1 Axes>"
            ]
          },
          "metadata": {
            "tags": [],
            "needs_background": "light"
          }
        }
      ]
    },
    {
      "cell_type": "code",
      "metadata": {
        "id": "UdjZxMG40LrQ",
        "colab": {
          "base_uri": "https://localhost:8080/",
          "height": 331
        },
        "outputId": "21c1f884-1d94-4a11-e82e-419b38066b1f"
      },
      "source": [
        "#prediction of the progression of COVID in Afghanistan\n",
        "Afghan_dat = testsets[testsets['Country']=='Afghanistan']\n",
        "\n",
        "Afghan=Afghan_dat.groupby(['Date']).sum()\n",
        "Afghan[['ConfirmedCases','Fatalities']].plot()"
      ],
      "execution_count": null,
      "outputs": [
        {
          "output_type": "execute_result",
          "data": {
            "text/plain": [
              "<matplotlib.axes._subplots.AxesSubplot at 0x7fab088f0e48>"
            ]
          },
          "metadata": {
            "tags": []
          },
          "execution_count": 113
        },
        {
          "output_type": "display_data",
          "data": {
            "image/png": "[encoded data removed]",
            "text/plain": [
              "<Figure size 432x288 with 1 Axes>"
            ]
          },
          "metadata": {
            "tags": [],
            "needs_background": "light"
          }
        }
      ]
    }
  ]
}